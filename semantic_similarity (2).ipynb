{
  "nbformat": 4,
  "nbformat_minor": 0,
  "metadata": {
    "colab": {
      "name": "semantic similarity.ipynb",
      "provenance": [],
      "collapsed_sections": [
        "ebvdjDL3AnDe"
      ],
      "machine_shape": "hm"
    },
    "kernelspec": {
      "name": "python3",
      "display_name": "Python 3"
    },
    "accelerator": "GPU"
  },
  "cells": [
    {
      "cell_type": "code",
      "metadata": {
        "id": "z35FsuYqOlo2",
        "colab_type": "code",
        "colab": {}
      },
      "source": [
        "# required library\n",
        "import numpy as np\n",
        "import pandas as pd\n",
        "import nltk\n",
        "from nltk.corpus import stopwords\n",
        "from nltk.stem import SnowballStemmer\n",
        "import re\n",
        "from gensim import utils\n",
        "from gensim.models.doc2vec import LabeledSentence\n",
        "from gensim.models.doc2vec import TaggedDocument\n",
        "from gensim.models import Doc2Vec\n",
        "from sklearn.metrics.pairwise import cosine_similarity\n",
        "from sklearn.metrics import accuracy_score\n",
        "# from sklearn.metrics.pairwise import cosine_similarity\n",
        "from sklearn.feature_extraction.text import TfidfVectorizer\n",
        "# from sklearn.metrics import accuracy_score\n",
        "from sklearn.metrics import confusion_matrix\n",
        "from sklearn.metrics import classification_report\n",
        "import matplotlib.pyplot as plt"
      ],
      "execution_count": 0,
      "outputs": []
    },
    {
      "cell_type": "code",
      "metadata": {
        "id": "T-AEkjrU_H1i",
        "colab_type": "code",
        "outputId": "22de54ee-241d-4363-c84c-d1f17f18c4af",
        "colab": {
          "resources": {
            "http://localhost:8080/nbextensions/google.colab/files.js": {
              "data": "Ly8gQ29weXJpZ2h0IDIwMTcgR29vZ2xlIExMQwovLwovLyBMaWNlbnNlZCB1bmRlciB0aGUgQXBhY2hlIExpY2Vuc2UsIFZlcnNpb24gMi4wICh0aGUgIkxpY2Vuc2UiKTsKLy8geW91IG1heSBub3QgdXNlIHRoaXMgZmlsZSBleGNlcHQgaW4gY29tcGxpYW5jZSB3aXRoIHRoZSBMaWNlbnNlLgovLyBZb3UgbWF5IG9idGFpbiBhIGNvcHkgb2YgdGhlIExpY2Vuc2UgYXQKLy8KLy8gICAgICBodHRwOi8vd3d3LmFwYWNoZS5vcmcvbGljZW5zZXMvTElDRU5TRS0yLjAKLy8KLy8gVW5sZXNzIHJlcXVpcmVkIGJ5IGFwcGxpY2FibGUgbGF3IG9yIGFncmVlZCB0byBpbiB3cml0aW5nLCBzb2Z0d2FyZQovLyBkaXN0cmlidXRlZCB1bmRlciB0aGUgTGljZW5zZSBpcyBkaXN0cmlidXRlZCBvbiBhbiAiQVMgSVMiIEJBU0lTLAovLyBXSVRIT1VUIFdBUlJBTlRJRVMgT1IgQ09ORElUSU9OUyBPRiBBTlkgS0lORCwgZWl0aGVyIGV4cHJlc3Mgb3IgaW1wbGllZC4KLy8gU2VlIHRoZSBMaWNlbnNlIGZvciB0aGUgc3BlY2lmaWMgbGFuZ3VhZ2UgZ292ZXJuaW5nIHBlcm1pc3Npb25zIGFuZAovLyBsaW1pdGF0aW9ucyB1bmRlciB0aGUgTGljZW5zZS4KCi8qKgogKiBAZmlsZW92ZXJ2aWV3IEhlbHBlcnMgZm9yIGdvb2dsZS5jb2xhYiBQeXRob24gbW9kdWxlLgogKi8KKGZ1bmN0aW9uKHNjb3BlKSB7CmZ1bmN0aW9uIHNwYW4odGV4dCwgc3R5bGVBdHRyaWJ1dGVzID0ge30pIHsKICBjb25zdCBlbGVtZW50ID0gZG9jdW1lbnQuY3JlYXRlRWxlbWVudCgnc3BhbicpOwogIGVsZW1lbnQudGV4dENvbnRlbnQgPSB0ZXh0OwogIGZvciAoY29uc3Qga2V5IG9mIE9iamVjdC5rZXlzKHN0eWxlQXR0cmlidXRlcykpIHsKICAgIGVsZW1lbnQuc3R5bGVba2V5XSA9IHN0eWxlQXR0cmlidXRlc1trZXldOwogIH0KICByZXR1cm4gZWxlbWVudDsKfQoKLy8gTWF4IG51bWJlciBvZiBieXRlcyB3aGljaCB3aWxsIGJlIHVwbG9hZGVkIGF0IGEgdGltZS4KY29uc3QgTUFYX1BBWUxPQURfU0laRSA9IDEwMCAqIDEwMjQ7Ci8vIE1heCBhbW91bnQgb2YgdGltZSB0byBibG9jayB3YWl0aW5nIGZvciB0aGUgdXNlci4KY29uc3QgRklMRV9DSEFOR0VfVElNRU9VVF9NUyA9IDMwICogMTAwMDsKCmZ1bmN0aW9uIF91cGxvYWRGaWxlcyhpbnB1dElkLCBvdXRwdXRJZCkgewogIGNvbnN0IHN0ZXBzID0gdXBsb2FkRmlsZXNTdGVwKGlucHV0SWQsIG91dHB1dElkKTsKICBjb25zdCBvdXRwdXRFbGVtZW50ID0gZG9jdW1lbnQuZ2V0RWxlbWVudEJ5SWQob3V0cHV0SWQpOwogIC8vIENhY2hlIHN0ZXBzIG9uIHRoZSBvdXRwdXRFbGVtZW50IHRvIG1ha2UgaXQgYXZhaWxhYmxlIGZvciB0aGUgbmV4dCBjYWxsCiAgLy8gdG8gdXBsb2FkRmlsZXNDb250aW51ZSBmcm9tIFB5dGhvbi4KICBvdXRwdXRFbGVtZW50LnN0ZXBzID0gc3RlcHM7CgogIHJldHVybiBfdXBsb2FkRmlsZXNDb250aW51ZShvdXRwdXRJZCk7Cn0KCi8vIFRoaXMgaXMgcm91Z2hseSBhbiBhc3luYyBnZW5lcmF0b3IgKG5vdCBzdXBwb3J0ZWQgaW4gdGhlIGJyb3dzZXIgeWV0KSwKLy8gd2hlcmUgdGhlcmUgYXJlIG11bHRpcGxlIGFzeW5jaHJvbm91cyBzdGVwcyBhbmQgdGhlIFB5dGhvbiBzaWRlIGlzIGdvaW5nCi8vIHRvIHBvbGwgZm9yIGNvbXBsZXRpb24gb2YgZWFjaCBzdGVwLgovLyBUaGlzIHVzZXMgYSBQcm9taXNlIHRvIGJsb2NrIHRoZSBweXRob24gc2lkZSBvbiBjb21wbGV0aW9uIG9mIGVhY2ggc3RlcCwKLy8gdGhlbiBwYXNzZXMgdGhlIHJlc3VsdCBvZiB0aGUgcHJldmlvdXMgc3RlcCBhcyB0aGUgaW5wdXQgdG8gdGhlIG5leHQgc3RlcC4KZnVuY3Rpb24gX3VwbG9hZEZpbGVzQ29udGludWUob3V0cHV0SWQpIHsKICBjb25zdCBvdXRwdXRFbGVtZW50ID0gZG9jdW1lbnQuZ2V0RWxlbWVudEJ5SWQob3V0cHV0SWQpOwogIGNvbnN0IHN0ZXBzID0gb3V0cHV0RWxlbWVudC5zdGVwczsKCiAgY29uc3QgbmV4dCA9IHN0ZXBzLm5leHQob3V0cHV0RWxlbWVudC5sYXN0UHJvbWlzZVZhbHVlKTsKICByZXR1cm4gUHJvbWlzZS5yZXNvbHZlKG5leHQudmFsdWUucHJvbWlzZSkudGhlbigodmFsdWUpID0+IHsKICAgIC8vIENhY2hlIHRoZSBsYXN0IHByb21pc2UgdmFsdWUgdG8gbWFrZSBpdCBhdmFpbGFibGUgdG8gdGhlIG5leHQKICAgIC8vIHN0ZXAgb2YgdGhlIGdlbmVyYXRvci4KICAgIG91dHB1dEVsZW1lbnQubGFzdFByb21pc2VWYWx1ZSA9IHZhbHVlOwogICAgcmV0dXJuIG5leHQudmFsdWUucmVzcG9uc2U7CiAgfSk7Cn0KCi8qKgogKiBHZW5lcmF0b3IgZnVuY3Rpb24gd2hpY2ggaXMgY2FsbGVkIGJldHdlZW4gZWFjaCBhc3luYyBzdGVwIG9mIHRoZSB1cGxvYWQKICogcHJvY2Vzcy4KICogQHBhcmFtIHtzdHJpbmd9IGlucHV0SWQgRWxlbWVudCBJRCBvZiB0aGUgaW5wdXQgZmlsZSBwaWNrZXIgZWxlbWVudC4KICogQHBhcmFtIHtzdHJpbmd9IG91dHB1dElkIEVsZW1lbnQgSUQgb2YgdGhlIG91dHB1dCBkaXNwbGF5LgogKiBAcmV0dXJuIHshSXRlcmFibGU8IU9iamVjdD59IEl0ZXJhYmxlIG9mIG5leHQgc3RlcHMuCiAqLwpmdW5jdGlvbiogdXBsb2FkRmlsZXNTdGVwKGlucHV0SWQsIG91dHB1dElkKSB7CiAgY29uc3QgaW5wdXRFbGVtZW50ID0gZG9jdW1lbnQuZ2V0RWxlbWVudEJ5SWQoaW5wdXRJZCk7CiAgaW5wdXRFbGVtZW50LmRpc2FibGVkID0gZmFsc2U7CgogIGNvbnN0IG91dHB1dEVsZW1lbnQgPSBkb2N1bWVudC5nZXRFbGVtZW50QnlJZChvdXRwdXRJZCk7CiAgb3V0cHV0RWxlbWVudC5pbm5lckhUTUwgPSAnJzsKCiAgY29uc3QgcGlja2VkUHJvbWlzZSA9IG5ldyBQcm9taXNlKChyZXNvbHZlKSA9PiB7CiAgICBpbnB1dEVsZW1lbnQuYWRkRXZlbnRMaXN0ZW5lcignY2hhbmdlJywgKGUpID0+IHsKICAgICAgcmVzb2x2ZShlLnRhcmdldC5maWxlcyk7CiAgICB9KTsKICB9KTsKCiAgY29uc3QgY2FuY2VsID0gZG9jdW1lbnQuY3JlYXRlRWxlbWVudCgnYnV0dG9uJyk7CiAgaW5wdXRFbGVtZW50LnBhcmVudEVsZW1lbnQuYXBwZW5kQ2hpbGQoY2FuY2VsKTsKICBjYW5jZWwudGV4dENvbnRlbnQgPSAnQ2FuY2VsIHVwbG9hZCc7CiAgY29uc3QgY2FuY2VsUHJvbWlzZSA9IG5ldyBQcm9taXNlKChyZXNvbHZlKSA9PiB7CiAgICBjYW5jZWwub25jbGljayA9ICgpID0+IHsKICAgICAgcmVzb2x2ZShudWxsKTsKICAgIH07CiAgfSk7CgogIC8vIENhbmNlbCB1cGxvYWQgaWYgdXNlciBoYXNuJ3QgcGlja2VkIGFueXRoaW5nIGluIHRpbWVvdXQuCiAgY29uc3QgdGltZW91dFByb21pc2UgPSBuZXcgUHJvbWlzZSgocmVzb2x2ZSkgPT4gewogICAgc2V0VGltZW91dCgoKSA9PiB7CiAgICAgIHJlc29sdmUobnVsbCk7CiAgICB9LCBGSUxFX0NIQU5HRV9USU1FT1VUX01TKTsKICB9KTsKCiAgLy8gV2FpdCBmb3IgdGhlIHVzZXIgdG8gcGljayB0aGUgZmlsZXMuCiAgY29uc3QgZmlsZXMgPSB5aWVsZCB7CiAgICBwcm9taXNlOiBQcm9taXNlLnJhY2UoW3BpY2tlZFByb21pc2UsIHRpbWVvdXRQcm9taXNlLCBjYW5jZWxQcm9taXNlXSksCiAgICByZXNwb25zZTogewogICAgICBhY3Rpb246ICdzdGFydGluZycsCiAgICB9CiAgfTsKCiAgaWYgKCFmaWxlcykgewogICAgcmV0dXJuIHsKICAgICAgcmVzcG9uc2U6IHsKICAgICAgICBhY3Rpb246ICdjb21wbGV0ZScsCiAgICAgIH0KICAgIH07CiAgfQoKICBjYW5jZWwucmVtb3ZlKCk7CgogIC8vIERpc2FibGUgdGhlIGlucHV0IGVsZW1lbnQgc2luY2UgZnVydGhlciBwaWNrcyBhcmUgbm90IGFsbG93ZWQuCiAgaW5wdXRFbGVtZW50LmRpc2FibGVkID0gdHJ1ZTsKCiAgZm9yIChjb25zdCBmaWxlIG9mIGZpbGVzKSB7CiAgICBjb25zdCBsaSA9IGRvY3VtZW50LmNyZWF0ZUVsZW1lbnQoJ2xpJyk7CiAgICBsaS5hcHBlbmQoc3BhbihmaWxlLm5hbWUsIHtmb250V2VpZ2h0OiAnYm9sZCd9KSk7CiAgICBsaS5hcHBlbmQoc3BhbigKICAgICAgICBgKCR7ZmlsZS50eXBlIHx8ICduL2EnfSkgLSAke2ZpbGUuc2l6ZX0gYnl0ZXMsIGAgKwogICAgICAgIGBsYXN0IG1vZGlmaWVkOiAkewogICAgICAgICAgICBmaWxlLmxhc3RNb2RpZmllZERhdGUgPyBmaWxlLmxhc3RNb2RpZmllZERhdGUudG9Mb2NhbGVEYXRlU3RyaW5nKCkgOgogICAgICAgICAgICAgICAgICAgICAgICAgICAgICAgICAgICAnbi9hJ30gLSBgKSk7CiAgICBjb25zdCBwZXJjZW50ID0gc3BhbignMCUgZG9uZScpOwogICAgbGkuYXBwZW5kQ2hpbGQocGVyY2VudCk7CgogICAgb3V0cHV0RWxlbWVudC5hcHBlbmRDaGlsZChsaSk7CgogICAgY29uc3QgZmlsZURhdGFQcm9taXNlID0gbmV3IFByb21pc2UoKHJlc29sdmUpID0+IHsKICAgICAgY29uc3QgcmVhZGVyID0gbmV3IEZpbGVSZWFkZXIoKTsKICAgICAgcmVhZGVyLm9ubG9hZCA9IChlKSA9PiB7CiAgICAgICAgcmVzb2x2ZShlLnRhcmdldC5yZXN1bHQpOwogICAgICB9OwogICAgICByZWFkZXIucmVhZEFzQXJyYXlCdWZmZXIoZmlsZSk7CiAgICB9KTsKICAgIC8vIFdhaXQgZm9yIHRoZSBkYXRhIHRvIGJlIHJlYWR5LgogICAgbGV0IGZpbGVEYXRhID0geWllbGQgewogICAgICBwcm9taXNlOiBmaWxlRGF0YVByb21pc2UsCiAgICAgIHJlc3BvbnNlOiB7CiAgICAgICAgYWN0aW9uOiAnY29udGludWUnLAogICAgICB9CiAgICB9OwoKICAgIC8vIFVzZSBhIGNodW5rZWQgc2VuZGluZyB0byBhdm9pZCBtZXNzYWdlIHNpemUgbGltaXRzLiBTZWUgYi82MjExNTY2MC4KICAgIGxldCBwb3NpdGlvbiA9IDA7CiAgICB3aGlsZSAocG9zaXRpb24gPCBmaWxlRGF0YS5ieXRlTGVuZ3RoKSB7CiAgICAgIGNvbnN0IGxlbmd0aCA9IE1hdGgubWluKGZpbGVEYXRhLmJ5dGVMZW5ndGggLSBwb3NpdGlvbiwgTUFYX1BBWUxPQURfU0laRSk7CiAgICAgIGNvbnN0IGNodW5rID0gbmV3IFVpbnQ4QXJyYXkoZmlsZURhdGEsIHBvc2l0aW9uLCBsZW5ndGgpOwogICAgICBwb3NpdGlvbiArPSBsZW5ndGg7CgogICAgICBjb25zdCBiYXNlNjQgPSBidG9hKFN0cmluZy5mcm9tQ2hhckNvZGUuYXBwbHkobnVsbCwgY2h1bmspKTsKICAgICAgeWllbGQgewogICAgICAgIHJlc3BvbnNlOiB7CiAgICAgICAgICBhY3Rpb246ICdhcHBlbmQnLAogICAgICAgICAgZmlsZTogZmlsZS5uYW1lLAogICAgICAgICAgZGF0YTogYmFzZTY0LAogICAgICAgIH0sCiAgICAgIH07CiAgICAgIHBlcmNlbnQudGV4dENvbnRlbnQgPQogICAgICAgICAgYCR7TWF0aC5yb3VuZCgocG9zaXRpb24gLyBmaWxlRGF0YS5ieXRlTGVuZ3RoKSAqIDEwMCl9JSBkb25lYDsKICAgIH0KICB9CgogIC8vIEFsbCBkb25lLgogIHlpZWxkIHsKICAgIHJlc3BvbnNlOiB7CiAgICAgIGFjdGlvbjogJ2NvbXBsZXRlJywKICAgIH0KICB9Owp9CgpzY29wZS5nb29nbGUgPSBzY29wZS5nb29nbGUgfHwge307CnNjb3BlLmdvb2dsZS5jb2xhYiA9IHNjb3BlLmdvb2dsZS5jb2xhYiB8fCB7fTsKc2NvcGUuZ29vZ2xlLmNvbGFiLl9maWxlcyA9IHsKICBfdXBsb2FkRmlsZXMsCiAgX3VwbG9hZEZpbGVzQ29udGludWUsCn07Cn0pKHNlbGYpOwo=",
              "ok": true,
              "headers": [
                [
                  "content-type",
                  "application/javascript"
                ]
              ],
              "status": 200,
              "status_text": ""
            }
          },
          "base_uri": "https://localhost:8080/",
          "height": 74
        }
      },
      "source": [
        "# uplaod local file on colab\n",
        "from google.colab import files\n",
        "uploaded = files.upload()"
      ],
      "execution_count": 0,
      "outputs": [
        {
          "output_type": "display_data",
          "data": {
            "text/html": [
              "\n",
              "     <input type=\"file\" id=\"files-a9db80d8-5986-4957-a60f-e615b7f7be29\" name=\"files[]\" multiple disabled />\n",
              "     <output id=\"result-a9db80d8-5986-4957-a60f-e615b7f7be29\">\n",
              "      Upload widget is only available when the cell has been executed in the\n",
              "      current browser session. Please rerun this cell to enable.\n",
              "      </output>\n",
              "      <script src=\"/nbextensions/google.colab/files.js\"></script> "
            ],
            "text/plain": [
              "<IPython.core.display.HTML object>"
            ]
          },
          "metadata": {
            "tags": []
          }
        },
        {
          "output_type": "stream",
          "text": [
            "Saving Text_Similarity_Dataset.csv to Text_Similarity_Dataset.csv\n"
          ],
          "name": "stdout"
        }
      ]
    },
    {
      "cell_type": "code",
      "metadata": {
        "id": "1xzJkBKM_wcC",
        "colab_type": "code",
        "colab": {}
      },
      "source": [
        "# inport path of file and pass the data set\n",
        "import io\n",
        "df = pd.read_csv(io.BytesIO(uploaded['Text_Similarity_Dataset.csv']))"
      ],
      "execution_count": 0,
      "outputs": []
    },
    {
      "cell_type": "code",
      "metadata": {
        "id": "e4QfEbvLW9TU",
        "colab_type": "code",
        "colab": {}
      },
      "source": [
        "df = re.sub(\"[^a-zA-Z]\",  # Search for all non-letters\n",
        "                          \" \",          # Replace all non-letters with spaces\n",
        "                          str(df))"
      ],
      "execution_count": 0,
      "outputs": []
    },
    {
      "cell_type": "code",
      "metadata": {
        "id": "pL3Xoh5B_2Fa",
        "colab_type": "code",
        "outputId": "67a8e342-328b-47d9-9110-ae7c8a0c4df4",
        "colab": {
          "base_uri": "https://localhost:8080/",
          "height": 204
        }
      },
      "source": [
        "# heading of given dataset\n",
        "df.head()"
      ],
      "execution_count": 0,
      "outputs": [
        {
          "output_type": "execute_result",
          "data": {
            "text/html": [
              "<div>\n",
              "<style scoped>\n",
              "    .dataframe tbody tr th:only-of-type {\n",
              "        vertical-align: middle;\n",
              "    }\n",
              "\n",
              "    .dataframe tbody tr th {\n",
              "        vertical-align: top;\n",
              "    }\n",
              "\n",
              "    .dataframe thead th {\n",
              "        text-align: right;\n",
              "    }\n",
              "</style>\n",
              "<table border=\"1\" class=\"dataframe\">\n",
              "  <thead>\n",
              "    <tr style=\"text-align: right;\">\n",
              "      <th></th>\n",
              "      <th>Unique_ID</th>\n",
              "      <th>text1</th>\n",
              "      <th>text2</th>\n",
              "    </tr>\n",
              "  </thead>\n",
              "  <tbody>\n",
              "    <tr>\n",
              "      <th>0</th>\n",
              "      <td>0</td>\n",
              "      <td>savvy searchers fail to spot ads internet sear...</td>\n",
              "      <td>newcastle 2-1 bolton kieron dyer smashed home ...</td>\n",
              "    </tr>\n",
              "    <tr>\n",
              "      <th>1</th>\n",
              "      <td>1</td>\n",
              "      <td>millions to miss out on the net by 2025  40% o...</td>\n",
              "      <td>nasdaq planning $100m share sale the owner of ...</td>\n",
              "    </tr>\n",
              "    <tr>\n",
              "      <th>2</th>\n",
              "      <td>2</td>\n",
              "      <td>young debut cut short by ginepri fifteen-year-...</td>\n",
              "      <td>ruddock backs yapp s credentials wales coach m...</td>\n",
              "    </tr>\n",
              "    <tr>\n",
              "      <th>3</th>\n",
              "      <td>3</td>\n",
              "      <td>diageo to buy us wine firm diageo  the world s...</td>\n",
              "      <td>mci shares climb on takeover bid shares in us ...</td>\n",
              "    </tr>\n",
              "    <tr>\n",
              "      <th>4</th>\n",
              "      <td>4</td>\n",
              "      <td>be careful how you code a new european directi...</td>\n",
              "      <td>media gadgets get moving pocket-sized devices ...</td>\n",
              "    </tr>\n",
              "  </tbody>\n",
              "</table>\n",
              "</div>"
            ],
            "text/plain": [
              "   Unique_ID  ...                                              text2\n",
              "0          0  ...  newcastle 2-1 bolton kieron dyer smashed home ...\n",
              "1          1  ...  nasdaq planning $100m share sale the owner of ...\n",
              "2          2  ...  ruddock backs yapp s credentials wales coach m...\n",
              "3          3  ...  mci shares climb on takeover bid shares in us ...\n",
              "4          4  ...  media gadgets get moving pocket-sized devices ...\n",
              "\n",
              "[5 rows x 3 columns]"
            ]
          },
          "metadata": {
            "tags": []
          },
          "execution_count": 125
        }
      ]
    },
    {
      "cell_type": "code",
      "metadata": {
        "id": "1BXMmfJhUxnh",
        "colab_type": "code",
        "colab": {}
      },
      "source": [
        "## drpop unique id if required it's only for exxperiment purpose\n",
        "# df.drop(['Unique_ID'],axis=1,inplace = True)"
      ],
      "execution_count": 0,
      "outputs": []
    },
    {
      "cell_type": "code",
      "metadata": {
        "id": "CzrxYJ1rFWY6",
        "colab_type": "code",
        "outputId": "fe09453d-cdbf-4537-cbe3-d3f29e4e4bd4",
        "colab": {
          "base_uri": "https://localhost:8080/",
          "height": 34
        }
      },
      "source": [
        "# check shape of dataset\n",
        "df.shape"
      ],
      "execution_count": 0,
      "outputs": [
        {
          "output_type": "execute_result",
          "data": {
            "text/plain": [
              "(4023, 3)"
            ]
          },
          "metadata": {
            "tags": []
          },
          "execution_count": 7
        }
      ]
    },
    {
      "cell_type": "code",
      "metadata": {
        "id": "oyGROd7FhVLt",
        "colab_type": "code",
        "colab": {}
      },
      "source": [
        ""
      ],
      "execution_count": 0,
      "outputs": []
    },
    {
      "cell_type": "markdown",
      "metadata": {
        "id": "8EQkCzP4qsRi",
        "colab_type": "text"
      },
      "source": [
        "# problem :- Find most similar sentence between text1 and text2"
      ]
    },
    {
      "cell_type": "markdown",
      "metadata": {
        "id": "asK8Ie__qz9m",
        "colab_type": "text"
      },
      "source": [
        "# Method 1"
      ]
    },
    {
      "cell_type": "code",
      "metadata": {
        "id": "PR1QlKjQikSa",
        "colab_type": "code",
        "outputId": "2f6bf625-2cbb-4049-8e21-6e77cce0778a",
        "colab": {
          "base_uri": "https://localhost:8080/",
          "height": 34
        }
      },
      "source": [
        "## install fuzzywuzzy library\n",
        "pip install fuzzywuzzy"
      ],
      "execution_count": 0,
      "outputs": [
        {
          "output_type": "stream",
          "text": [
            "Requirement already satisfied: fuzzywuzzy in /usr/local/lib/python3.6/dist-packages (0.17.0)\n"
          ],
          "name": "stdout"
        }
      ]
    },
    {
      "cell_type": "markdown",
      "metadata": {
        "id": "QTPm8wRaq6se",
        "colab_type": "text"
      },
      "source": [
        "# What is fuzzywuzzy\n",
        "## FuzzyWuzzy is a library of Python which is used for string matching. Fuzzy string matching is the process of finding strings that match a given pattern. Basically it uses Levenshtein Distance to calculate the differences between sequences.\n",
        "##FuzzyWuzzy has been developed and open-sourced by SeatGeek, a service to find sport and concert tickets. Their original use case, as discussed in their blog.\n",
        "##### definition copied from -https://www.geeksforgeeks.org/fuzzywuzzy-python-library/"
      ]
    },
    {
      "cell_type": "code",
      "metadata": {
        "id": "MpsjTWY5n3A2",
        "colab_type": "code",
        "colab": {}
      },
      "source": [
        "# import fuzzywuzzy library\n",
        "from fuzzywuzzy import fuzz\n",
        "from fuzzywuzzy import process"
      ],
      "execution_count": 0,
      "outputs": []
    },
    {
      "cell_type": "code",
      "metadata": {
        "id": "Yk-4Q6gDzM35",
        "colab_type": "code",
        "outputId": "2317770e-a216-4dd1-99a8-cbc11c849b9b",
        "colab": {
          "base_uri": "https://localhost:8080/",
          "height": 85
        }
      },
      "source": [
        "## check in any null value in given dataset \n",
        "df.isnull().sum()"
      ],
      "execution_count": 0,
      "outputs": [
        {
          "output_type": "execute_result",
          "data": {
            "text/plain": [
              "Unique_ID    0\n",
              "text1        0\n",
              "text2        0\n",
              "dtype: int64"
            ]
          },
          "metadata": {
            "tags": []
          },
          "execution_count": 10
        }
      ]
    },
    {
      "cell_type": "code",
      "metadata": {
        "id": "bzuqwaUf4kvc",
        "colab_type": "code",
        "outputId": "6adabca9-b67a-433a-8ba0-29db50e97083",
        "colab": {
          "base_uri": "https://localhost:8080/",
          "height": 153
        }
      },
      "source": [
        "## define a function and pass a argument\n",
        "def get_ratio(row):\n",
        "  # assign value\n",
        "    name = row['text1']\n",
        "    name1 = row['text2']\n",
        "    # return value through pre defined keyword(fuzzywuzzy)\n",
        "    return fuzz.token_set_ratio(name, name1)\n",
        "## set a percentage similarity threshold on 70 , you can check it also on other value\n",
        "ratio = (df[df.apply(get_ratio, axis=1)>0 ].head())\n",
        "print(ratio,fuzz.token_set_ratio)\n",
        "## now what i want print these with their similaraty score"
      ],
      "execution_count": 0,
      "outputs": [
        {
          "output_type": "stream",
          "text": [
            "   index  ...                                              text2\n",
            "0      0  ...  newcastle 2-1 bolton kieron dyer smashed home ...\n",
            "1      1  ...  nasdaq planning $100m share sale the owner of ...\n",
            "2      2  ...  ruddock backs yapp s credentials wales coach m...\n",
            "3      3  ...  mci shares climb on takeover bid shares in us ...\n",
            "4      4  ...  media gadgets get moving pocket-sized devices ...\n",
            "\n",
            "[5 rows x 4 columns] <function token_set_ratio at 0x7f45c3304b70>\n"
          ],
          "name": "stdout"
        }
      ]
    },
    {
      "cell_type": "code",
      "metadata": {
        "id": "ck1BldzX8v1F",
        "colab_type": "code",
        "outputId": "7ac40101-32a4-4845-ebcf-5288a7ac6684",
        "colab": {
          "base_uri": "https://localhost:8080/",
          "height": 204
        }
      },
      "source": [
        "ratio"
      ],
      "execution_count": 0,
      "outputs": [
        {
          "output_type": "execute_result",
          "data": {
            "text/html": [
              "<div>\n",
              "<style scoped>\n",
              "    .dataframe tbody tr th:only-of-type {\n",
              "        vertical-align: middle;\n",
              "    }\n",
              "\n",
              "    .dataframe tbody tr th {\n",
              "        vertical-align: top;\n",
              "    }\n",
              "\n",
              "    .dataframe thead th {\n",
              "        text-align: right;\n",
              "    }\n",
              "</style>\n",
              "<table border=\"1\" class=\"dataframe\">\n",
              "  <thead>\n",
              "    <tr style=\"text-align: right;\">\n",
              "      <th></th>\n",
              "      <th>index</th>\n",
              "      <th>Unique_ID</th>\n",
              "      <th>text1</th>\n",
              "      <th>text2</th>\n",
              "    </tr>\n",
              "  </thead>\n",
              "  <tbody>\n",
              "    <tr>\n",
              "      <th>0</th>\n",
              "      <td>0</td>\n",
              "      <td>0</td>\n",
              "      <td>savvy searchers fail to spot ads internet sear...</td>\n",
              "      <td>newcastle 2-1 bolton kieron dyer smashed home ...</td>\n",
              "    </tr>\n",
              "    <tr>\n",
              "      <th>1</th>\n",
              "      <td>1</td>\n",
              "      <td>1</td>\n",
              "      <td>millions to miss out on the net by 2025  40% o...</td>\n",
              "      <td>nasdaq planning $100m share sale the owner of ...</td>\n",
              "    </tr>\n",
              "    <tr>\n",
              "      <th>2</th>\n",
              "      <td>2</td>\n",
              "      <td>2</td>\n",
              "      <td>young debut cut short by ginepri fifteen-year-...</td>\n",
              "      <td>ruddock backs yapp s credentials wales coach m...</td>\n",
              "    </tr>\n",
              "    <tr>\n",
              "      <th>3</th>\n",
              "      <td>3</td>\n",
              "      <td>3</td>\n",
              "      <td>diageo to buy us wine firm diageo  the world s...</td>\n",
              "      <td>mci shares climb on takeover bid shares in us ...</td>\n",
              "    </tr>\n",
              "    <tr>\n",
              "      <th>4</th>\n",
              "      <td>4</td>\n",
              "      <td>4</td>\n",
              "      <td>be careful how you code a new european directi...</td>\n",
              "      <td>media gadgets get moving pocket-sized devices ...</td>\n",
              "    </tr>\n",
              "  </tbody>\n",
              "</table>\n",
              "</div>"
            ],
            "text/plain": [
              "   index  ...                                              text2\n",
              "0      0  ...  newcastle 2-1 bolton kieron dyer smashed home ...\n",
              "1      1  ...  nasdaq planning $100m share sale the owner of ...\n",
              "2      2  ...  ruddock backs yapp s credentials wales coach m...\n",
              "3      3  ...  mci shares climb on takeover bid shares in us ...\n",
              "4      4  ...  media gadgets get moving pocket-sized devices ...\n",
              "\n",
              "[5 rows x 4 columns]"
            ]
          },
          "metadata": {
            "tags": []
          },
          "execution_count": 88
        }
      ]
    },
    {
      "cell_type": "code",
      "metadata": {
        "id": "LmOQud3HuWkw",
        "colab_type": "code",
        "colab": {}
      },
      "source": [
        "def get_ratio(name,name1):\n",
        "    #name = row['text1']\n",
        "    #name1 = row['text2']\n",
        "    ratio=fuzz.token_set_ratio(name, name1)\n",
        "    return(ratio)\n",
        "\n",
        "## this time set a percentage similarity threshold on 90 , you can check it also on other value\n",
        "#df.apply(lambda row : get_ratio(row), axis=1)>=0\n",
        "# take a loop to print similarity score between text\n",
        "for i in range (0,df.shape[0]):\n",
        "  df.loc[i,'percentage_simlarity']=get_ratio(df.loc[i,'text1'],df.loc[i,'text2'])/100"
      ],
      "execution_count": 0,
      "outputs": []
    },
    {
      "cell_type": "code",
      "metadata": {
        "id": "yKF6_gxc-TEu",
        "colab_type": "code",
        "outputId": "ee48a909-6133-444a-ae2c-cd28228476b1",
        "colab": {
          "base_uri": "https://localhost:8080/",
          "height": 204
        }
      },
      "source": [
        "df.head()\n",
        "# head of dataframe with similarity score"
      ],
      "execution_count": 0,
      "outputs": [
        {
          "output_type": "execute_result",
          "data": {
            "text/html": [
              "<div>\n",
              "<style scoped>\n",
              "    .dataframe tbody tr th:only-of-type {\n",
              "        vertical-align: middle;\n",
              "    }\n",
              "\n",
              "    .dataframe tbody tr th {\n",
              "        vertical-align: top;\n",
              "    }\n",
              "\n",
              "    .dataframe thead th {\n",
              "        text-align: right;\n",
              "    }\n",
              "</style>\n",
              "<table border=\"1\" class=\"dataframe\">\n",
              "  <thead>\n",
              "    <tr style=\"text-align: right;\">\n",
              "      <th></th>\n",
              "      <th>Unique_ID</th>\n",
              "      <th>text1</th>\n",
              "      <th>text2</th>\n",
              "      <th>percentage_simlarity</th>\n",
              "    </tr>\n",
              "  </thead>\n",
              "  <tbody>\n",
              "    <tr>\n",
              "      <th>0</th>\n",
              "      <td>0</td>\n",
              "      <td>savvy searchers fail to spot ads internet sear...</td>\n",
              "      <td>newcastle 2-1 bolton kieron dyer smashed home ...</td>\n",
              "      <td>0.27</td>\n",
              "    </tr>\n",
              "    <tr>\n",
              "      <th>1</th>\n",
              "      <td>1</td>\n",
              "      <td>millions to miss out on the net by 2025  40% o...</td>\n",
              "      <td>nasdaq planning $100m share sale the owner of ...</td>\n",
              "      <td>0.34</td>\n",
              "    </tr>\n",
              "    <tr>\n",
              "      <th>2</th>\n",
              "      <td>2</td>\n",
              "      <td>young debut cut short by ginepri fifteen-year-...</td>\n",
              "      <td>ruddock backs yapp s credentials wales coach m...</td>\n",
              "      <td>0.27</td>\n",
              "    </tr>\n",
              "    <tr>\n",
              "      <th>3</th>\n",
              "      <td>3</td>\n",
              "      <td>diageo to buy us wine firm diageo  the world s...</td>\n",
              "      <td>mci shares climb on takeover bid shares in us ...</td>\n",
              "      <td>0.36</td>\n",
              "    </tr>\n",
              "    <tr>\n",
              "      <th>4</th>\n",
              "      <td>4</td>\n",
              "      <td>be careful how you code a new european directi...</td>\n",
              "      <td>media gadgets get moving pocket-sized devices ...</td>\n",
              "      <td>0.41</td>\n",
              "    </tr>\n",
              "  </tbody>\n",
              "</table>\n",
              "</div>"
            ],
            "text/plain": [
              "   Unique_ID  ... percentage_simlarity\n",
              "0          0  ...                 0.27\n",
              "1          1  ...                 0.34\n",
              "2          2  ...                 0.27\n",
              "3          3  ...                 0.36\n",
              "4          4  ...                 0.41\n",
              "\n",
              "[5 rows x 4 columns]"
            ]
          },
          "metadata": {
            "tags": []
          },
          "execution_count": 131
        }
      ]
    },
    {
      "cell_type": "code",
      "metadata": {
        "id": "1Bb22HbbF_aV",
        "colab_type": "code",
        "colab": {}
      },
      "source": [
        ""
      ],
      "execution_count": 0,
      "outputs": []
    },
    {
      "cell_type": "code",
      "metadata": {
        "id": "_G61Lzp19LHb",
        "colab_type": "code",
        "outputId": "a1c96a52-44d1-458d-e394-979ea30f6ecb",
        "colab": {
          "base_uri": "https://localhost:8080/",
          "height": 34
        }
      },
      "source": [
        "fuzz.token_set_ratio(df.loc[3403,'text1'], df.loc[3403,'text2'])/100"
      ],
      "execution_count": 0,
      "outputs": [
        {
          "output_type": "execute_result",
          "data": {
            "text/plain": [
              "1.0"
            ]
          },
          "metadata": {
            "tags": []
          },
          "execution_count": 117
        }
      ]
    },
    {
      "cell_type": "code",
      "metadata": {
        "id": "GbHZ9uHd4wcY",
        "colab_type": "code",
        "outputId": "5055bc1e-322e-4ea2-e35b-5149fdad049f",
        "colab": {
          "base_uri": "https://localhost:8080/",
          "height": 34
        }
      },
      "source": [
        "len(df)"
      ],
      "execution_count": 0,
      "outputs": [
        {
          "output_type": "execute_result",
          "data": {
            "text/plain": [
              "4023"
            ]
          },
          "metadata": {
            "tags": []
          },
          "execution_count": 14
        }
      ]
    },
    {
      "cell_type": "code",
      "metadata": {
        "id": "9cwA9pQLyWSU",
        "colab_type": "code",
        "outputId": "c60fa10d-d97c-48fb-cd5d-5b39c9a327fc",
        "colab": {
          "base_uri": "https://localhost:8080/",
          "height": 297
        }
      },
      "source": [
        "# print those senteces whose similarity vlue is more than 60\n",
        "df[df.apply(lambda row: fuzz.token_set_ratio(row['text1'], row['text2']), axis=1) > 60]"
      ],
      "execution_count": 0,
      "outputs": [
        {
          "output_type": "execute_result",
          "data": {
            "text/html": [
              "<div>\n",
              "<style scoped>\n",
              "    .dataframe tbody tr th:only-of-type {\n",
              "        vertical-align: middle;\n",
              "    }\n",
              "\n",
              "    .dataframe tbody tr th {\n",
              "        vertical-align: top;\n",
              "    }\n",
              "\n",
              "    .dataframe thead th {\n",
              "        text-align: right;\n",
              "    }\n",
              "</style>\n",
              "<table border=\"1\" class=\"dataframe\">\n",
              "  <thead>\n",
              "    <tr style=\"text-align: right;\">\n",
              "      <th></th>\n",
              "      <th>index</th>\n",
              "      <th>Unique_ID</th>\n",
              "      <th>text1</th>\n",
              "      <th>text2</th>\n",
              "    </tr>\n",
              "  </thead>\n",
              "  <tbody>\n",
              "    <tr>\n",
              "      <th>238</th>\n",
              "      <td>238</td>\n",
              "      <td>238</td>\n",
              "      <td>terror powers expose  tyranny  the lord chance...</td>\n",
              "      <td>blair labour s longest-serving pm tony blair h...</td>\n",
              "    </tr>\n",
              "    <tr>\n",
              "      <th>1118</th>\n",
              "      <td>1118</td>\n",
              "      <td>1118</td>\n",
              "      <td>tomlinson stays focused on europe long jumper ...</td>\n",
              "      <td>holmes back on form in birmingham double olymp...</td>\n",
              "    </tr>\n",
              "    <tr>\n",
              "      <th>1132</th>\n",
              "      <td>1132</td>\n",
              "      <td>1132</td>\n",
              "      <td>lib dems predict  best ever poll  the lib dems...</td>\n",
              "      <td>lib dems highlight problem debt people vulnera...</td>\n",
              "    </tr>\n",
              "    <tr>\n",
              "      <th>1397</th>\n",
              "      <td>1397</td>\n",
              "      <td>1397</td>\n",
              "      <td>a-listers flock to gervais sitcom hollywood ac...</td>\n",
              "      <td>roundabout continues nostalgia trip the new bi...</td>\n",
              "    </tr>\n",
              "    <tr>\n",
              "      <th>2284</th>\n",
              "      <td>2284</td>\n",
              "      <td>2284</td>\n",
              "      <td>dvd copy protection strengthened dvds will be ...</td>\n",
              "      <td>dvd copy protection strengthened dvds will be ...</td>\n",
              "    </tr>\n",
              "    <tr>\n",
              "      <th>2413</th>\n",
              "      <td>2413</td>\n",
              "      <td>2413</td>\n",
              "      <td>bush to get  tough  on deficit us president ge...</td>\n",
              "      <td>terror powers expose  tyranny  the lord chance...</td>\n",
              "    </tr>\n",
              "    <tr>\n",
              "      <th>2546</th>\n",
              "      <td>2546</td>\n",
              "      <td>2546</td>\n",
              "      <td>ireland 19-13 england ireland consigned englan...</td>\n",
              "      <td>yachvili savours france comeback france scrum-...</td>\n",
              "    </tr>\n",
              "    <tr>\n",
              "      <th>3403</th>\n",
              "      <td>3403</td>\n",
              "      <td>3403</td>\n",
              "      <td>holmes starts 2005 with gb events kelly holmes...</td>\n",
              "      <td>holmes starts 2005 with gb events kelly holmes...</td>\n",
              "    </tr>\n",
              "  </tbody>\n",
              "</table>\n",
              "</div>"
            ],
            "text/plain": [
              "      index  ...                                              text2\n",
              "238     238  ...  blair labour s longest-serving pm tony blair h...\n",
              "1118   1118  ...  holmes back on form in birmingham double olymp...\n",
              "1132   1132  ...  lib dems highlight problem debt people vulnera...\n",
              "1397   1397  ...  roundabout continues nostalgia trip the new bi...\n",
              "2284   2284  ...  dvd copy protection strengthened dvds will be ...\n",
              "2413   2413  ...  terror powers expose  tyranny  the lord chance...\n",
              "2546   2546  ...  yachvili savours france comeback france scrum-...\n",
              "3403   3403  ...  holmes starts 2005 with gb events kelly holmes...\n",
              "\n",
              "[8 rows x 4 columns]"
            ]
          },
          "metadata": {
            "tags": []
          },
          "execution_count": 85
        }
      ]
    },
    {
      "cell_type": "code",
      "metadata": {
        "id": "zkA4XvepWEhe",
        "colab_type": "code",
        "outputId": "526d2cd4-e9f7-4185-d150-6466c8732b4b",
        "colab": {
          "base_uri": "https://localhost:8080/",
          "height": 68
        }
      },
      "source": [
        "  >>> import nltk\n",
        "  >>> nltk.download('punkt')"
      ],
      "execution_count": 0,
      "outputs": [
        {
          "output_type": "stream",
          "text": [
            "[nltk_data] Downloading package punkt to /root/nltk_data...\n",
            "[nltk_data]   Unzipping tokenizers/punkt.zip.\n"
          ],
          "name": "stdout"
        },
        {
          "output_type": "execute_result",
          "data": {
            "text/plain": [
              "True"
            ]
          },
          "metadata": {
            "tags": []
          },
          "execution_count": 21
        }
      ]
    },
    {
      "cell_type": "markdown",
      "metadata": {
        "id": "5DtbeEjzwKus",
        "colab_type": "text"
      },
      "source": [
        "# Method 2"
      ]
    },
    {
      "cell_type": "markdown",
      "metadata": {
        "id": "ebvdjDL3AnDe",
        "colab_type": "text"
      },
      "source": [
        "## preprocessing"
      ]
    },
    {
      "cell_type": "markdown",
      "metadata": {
        "id": "OsJgScYNxICL",
        "colab_type": "text"
      },
      "source": [
        "# TFIDFVECTORIZER"
      ]
    },
    {
      "cell_type": "code",
      "metadata": {
        "id": "efNLRCjaAg4x",
        "colab_type": "code",
        "outputId": "4dcb6383-85d4-484a-a028-2062a3413722",
        "colab": {
          "base_uri": "https://localhost:8080/",
          "height": 34
        }
      },
      "source": [
        "len(df)"
      ],
      "execution_count": 0,
      "outputs": [
        {
          "output_type": "execute_result",
          "data": {
            "text/plain": [
              "4023"
            ]
          },
          "metadata": {
            "tags": []
          },
          "execution_count": 25
        }
      ]
    },
    {
      "cell_type": "code",
      "metadata": {
        "id": "LU8hMDa7MWEY",
        "colab_type": "code",
        "outputId": "2919102c-d344-4eb4-a51f-4bf1bd0ecac8",
        "colab": {
          "base_uri": "https://localhost:8080/",
          "height": 204
        }
      },
      "source": [
        "df.head()"
      ],
      "execution_count": 0,
      "outputs": [
        {
          "output_type": "execute_result",
          "data": {
            "text/html": [
              "<div>\n",
              "<style scoped>\n",
              "    .dataframe tbody tr th:only-of-type {\n",
              "        vertical-align: middle;\n",
              "    }\n",
              "\n",
              "    .dataframe tbody tr th {\n",
              "        vertical-align: top;\n",
              "    }\n",
              "\n",
              "    .dataframe thead th {\n",
              "        text-align: right;\n",
              "    }\n",
              "</style>\n",
              "<table border=\"1\" class=\"dataframe\">\n",
              "  <thead>\n",
              "    <tr style=\"text-align: right;\">\n",
              "      <th></th>\n",
              "      <th>Unique_ID</th>\n",
              "      <th>text1</th>\n",
              "      <th>text2</th>\n",
              "    </tr>\n",
              "  </thead>\n",
              "  <tbody>\n",
              "    <tr>\n",
              "      <th>0</th>\n",
              "      <td>0</td>\n",
              "      <td>savvy searchers fail to spot ads internet sear...</td>\n",
              "      <td>newcastle 2-1 bolton kieron dyer smashed home ...</td>\n",
              "    </tr>\n",
              "    <tr>\n",
              "      <th>1</th>\n",
              "      <td>1</td>\n",
              "      <td>millions to miss out on the net by 2025  40% o...</td>\n",
              "      <td>nasdaq planning $100m share sale the owner of ...</td>\n",
              "    </tr>\n",
              "    <tr>\n",
              "      <th>2</th>\n",
              "      <td>2</td>\n",
              "      <td>young debut cut short by ginepri fifteen-year-...</td>\n",
              "      <td>ruddock backs yapp s credentials wales coach m...</td>\n",
              "    </tr>\n",
              "    <tr>\n",
              "      <th>3</th>\n",
              "      <td>3</td>\n",
              "      <td>diageo to buy us wine firm diageo  the world s...</td>\n",
              "      <td>mci shares climb on takeover bid shares in us ...</td>\n",
              "    </tr>\n",
              "    <tr>\n",
              "      <th>4</th>\n",
              "      <td>4</td>\n",
              "      <td>be careful how you code a new european directi...</td>\n",
              "      <td>media gadgets get moving pocket-sized devices ...</td>\n",
              "    </tr>\n",
              "  </tbody>\n",
              "</table>\n",
              "</div>"
            ],
            "text/plain": [
              "   Unique_ID  ...                                              text2\n",
              "0          0  ...  newcastle 2-1 bolton kieron dyer smashed home ...\n",
              "1          1  ...  nasdaq planning $100m share sale the owner of ...\n",
              "2          2  ...  ruddock backs yapp s credentials wales coach m...\n",
              "3          3  ...  mci shares climb on takeover bid shares in us ...\n",
              "4          4  ...  media gadgets get moving pocket-sized devices ...\n",
              "\n",
              "[5 rows x 3 columns]"
            ]
          },
          "metadata": {
            "tags": []
          },
          "execution_count": 26
        }
      ]
    },
    {
      "cell_type": "code",
      "metadata": {
        "id": "BP6UKFyXGCAl",
        "colab_type": "code",
        "outputId": "fa690871-c331-42fa-ddb2-58b3e53e6631",
        "colab": {
          "base_uri": "https://localhost:8080/",
          "height": 34
        }
      },
      "source": [
        "\n",
        "len(set(df))"
      ],
      "execution_count": 0,
      "outputs": [
        {
          "output_type": "execute_result",
          "data": {
            "text/plain": [
              "3"
            ]
          },
          "metadata": {
            "tags": []
          },
          "execution_count": 27
        }
      ]
    },
    {
      "cell_type": "code",
      "metadata": {
        "id": "t8-GmePliSX0",
        "colab_type": "code",
        "colab": {}
      },
      "source": [
        "def review_to_wordlist(review, remove_stopwords=True):\n",
        "    # Clean the text, with the option to remove stopwords.\n",
        "    \n",
        "    # Convert words to lower case and split them\n",
        "    words = review.lower().split()\n",
        "\n",
        "    # Optionally remove stop words (true by default)\n",
        "    if remove_stopwords:\n",
        "        stops = set(stopwords.words(\"english\"))\n",
        "        words = [w for w in words if not w in stops]\n",
        "    \n",
        "    review_text = \" \".join(words)\n",
        "\n",
        "    # Clean the text\n",
        "    review_text = re.sub(r\"[^A-Za-z0-9(),!.?\\'\\`]\", \" \", review_text)\n",
        "    review_text = re.sub(r\"\\'s\", \" 's \", review_text)\n",
        "    review_text = re.sub(r\"\\'ve\", \" 've \", review_text)\n",
        "    review_text = re.sub(r\"n\\'t\", \" 't \", review_text)\n",
        "    review_text = re.sub(r\"\\'re\", \" 're \", review_text)\n",
        "    review_text = re.sub(r\"\\'d\", \" 'd \", review_text)\n",
        "    review_text = re.sub(r\"\\'ll\", \" 'll \", review_text)\n",
        "    review_text = re.sub(r\",\", \" \", review_text)\n",
        "    review_text = re.sub(r\"\\.\", \" \", review_text)\n",
        "    review_text = re.sub(r\"!\", \" \", review_text)\n",
        "    review_text = re.sub(r\"\\(\", \" ( \", review_text)\n",
        "    review_text = re.sub(r\"\\)\", \" ) \", review_text)\n",
        "    review_text = re.sub(r\"\\?\", \" \", review_text)\n",
        "    review_text = re.sub(r\"\\s{2,}\", \" \", review_text)\n",
        "    \n",
        "    words = review_text.split()\n",
        "    \n",
        "    # Shorten words to their stems\n",
        "    stemmer = SnowballStemmer('english')\n",
        "    stemmed_words = [stemmer.stem(word) for word in words]\n",
        "    \n",
        "    review_text = \" \".join(stemmed_words)\n",
        "    \n",
        "    # Return a list of words\n",
        "    return(review_text)"
      ],
      "execution_count": 0,
      "outputs": []
    },
    {
      "cell_type": "code",
      "metadata": {
        "id": "587_00_GjNUC",
        "colab_type": "code",
        "colab": {}
      },
      "source": [
        "def process_sentences(question_list, questions, question_list_name):\n",
        "# function to transform questions and display progress\n",
        "    for question in questions:\n",
        "        question_list.append(review_to_wordlist(question))\n",
        "        # len(question_list = 4000/1000)\n",
        "        if len(question_list) % 1000 == 0:\n",
        "          # now take percentage\n",
        "            progress = len(question_list)/len(df) * 100\n",
        "            print(\"{} is {}% complete.\".format(question_list_name, round(progress, 1)))"
      ],
      "execution_count": 0,
      "outputs": []
    },
    {
      "cell_type": "code",
      "metadata": {
        "id": "kQ9YP2bEkP9T",
        "colab_type": "code",
        "outputId": "dd530e69-ddf4-4015-946d-9c47319a65ca",
        "colab": {
          "base_uri": "https://localhost:8080/",
          "height": 68
        }
      },
      "source": [
        "# download nltk stopwords\n",
        "import nltk\n",
        "nltk.download('stopwords')"
      ],
      "execution_count": 0,
      "outputs": [
        {
          "output_type": "stream",
          "text": [
            "[nltk_data] Downloading package stopwords to /root/nltk_data...\n",
            "[nltk_data]   Unzipping corpora/stopwords.zip.\n"
          ],
          "name": "stdout"
        },
        {
          "output_type": "execute_result",
          "data": {
            "text/plain": [
              "True"
            ]
          },
          "metadata": {
            "tags": []
          },
          "execution_count": 30
        }
      ]
    },
    {
      "cell_type": "code",
      "metadata": {
        "id": "kDG6pJGnjNSC",
        "colab_type": "code",
        "outputId": "2b9d5c09-0bf3-4665-e193-f3a124d306f3",
        "colab": {
          "base_uri": "https://localhost:8080/",
          "height": 170
        }
      },
      "source": [
        "sentence1 = []     \n",
        "process_sentences(sentence1, df.text1, \"sentences1\")\n",
        "print()\n",
        "sentence2 = []     \n",
        "process_sentences(sentence2, df.text2, \"sentences2\")"
      ],
      "execution_count": 0,
      "outputs": [
        {
          "output_type": "stream",
          "text": [
            "sentences1 is 24.9% complete.\n",
            "sentences1 is 49.7% complete.\n",
            "sentences1 is 74.6% complete.\n",
            "sentences1 is 99.4% complete.\n",
            "\n",
            "sentences2 is 24.9% complete.\n",
            "sentences2 is 49.7% complete.\n",
            "sentences2 is 74.6% complete.\n",
            "sentences2 is 99.4% complete.\n"
          ],
          "name": "stdout"
        }
      ]
    },
    {
      "cell_type": "code",
      "metadata": {
        "id": "oic_qQPgjNPM",
        "colab_type": "code",
        "outputId": "7defad97-b1e6-41f9-a02d-d0d23dfcf5b3",
        "colab": {
          "base_uri": "https://localhost:8080/",
          "height": 632
        }
      },
      "source": [
        "# take a look at the some processed question \n",
        "for i in range(5):\n",
        "    print(questions1[i],'\\n')\n",
        "    print(questions2[i], '\\n')\n",
        "    print()\n",
        "    print((questions1[i]))\n",
        "    print((questions2[i]))"
      ],
      "execution_count": 0,
      "outputs": [
        {
          "output_type": "stream",
          "text": [
            "savvi searcher fail spot ad internet search engin user odd mix naiv sophist suggest report search habit report us pew research center reveal 87 searcher usual find look use search engin also show spot differ paid for result organ one report reveal 84 net user say regular use googl ask jeev msn yahoo onlin almost 50 question said would trust search engin much less knew inform paid result hidden accord figur gather pew research averag user spend 43 minut per month carri 34 separ search look 1 9 webpag hunt signific chunk net user 36 carri search least week 29 ask look everi week 44 question inform look critic inform simpli find search engin user also tend loyal found site feel trust tend stick it accord pew research 44 searcher use singl search engin 48 use two three small number 7 consult three site toni macklin spokesman ask jeev said result reflect research show peopl use differ search engin way site gather inform mean provid differ result queri despit like search site half question said could get inform via rout small number 17 said realli miss search engin exist remain 33 said could live without search site two third question 68 said thought result present fair unbias select inform topic found net alongsid grow sophist net user lack awar paid for result mani search engin provid alongsid list websit found index web ask 62 unawar someon paid result see carri search 18 searcher say tell result paid not said pew report find iron sinc near half user say would stop use search engin thought engin clear present paid result comment mr macklin said sponsor result must clear mark though might help queri user test show peopl need abl spot differ \n",
            "\n",
            "newcastl 2 1 bolton kieron dyer smash home winner end bolton 10 game unbeaten run lee bowyer put newcastl ahead fed stephen carr right flank sprint area power home header result cross wander hit back stelio giannakopoulo end fluid pass move well struck volley dyer last word game chanc pounc loos ball alan shearer shot block fire top corner neither side lack urgenc earli stage game plenti tackl fli opportun front goal harder come by bolton keeper jussi jaaskelainen make two save quick success midway first half keep shearer low shot dyer close rang header goalmouth action note almost noth magpi took lead 35 minut bowyer found space neat turn half way line stride forward pick carr right continu run perfect time made way box met carr cross downward header far corner bolton produc littl go forward point respond well level within six minut thank smart finish giannakopoulo jay jay okocha twist turn edg area neat exchang pass involv kevin davi gari speed greek striker found bottom corner first time strike magpi open half time davi set giannakopoulo space given block near post home side surviv re taken lead first meaning attack second half fernando hierro cynic chop dyer edg area midfield clean through veteran defend escap book defend nearbi result free kick laurent robert curl ball wide bolton creat littl go forward seem content frustrat magpi strategi seem work 69th minut alan shearer snap shot charg dyer react first smash ball past despair jaaskelainen six yard bolton boss sam allardyc bitter disappoint result probabl disappoint second half perform first half put lot pressur goal match qualiti thought would lift us might tire play lot game unfortun battl second half allow heap much pressur us end crack newcastl boss graem souness deserv win realli good second half bolton difficult side play match physic first play footbal slow first 45 minut look bit tire got go that scorelin flatter could one two goal newcastl given carr boumsong brambl babayaro dyer fay bowyer robert ( jena 77 ) ameobi shearer sub use butt harper milner hugh goal bowyer 35 dyer 69 bolton jaaskelainen hunt ( fadiga 14 ) n gotti ben haim candela giannakopoulo okocha ( vaz te 77 ) hierro ( campo 64 ) speed gardner davi sub use jaidi pool book ben haim hierro goal giannakopoulo 41 att 50 430 ref dunn ( gloucestershir ) \n",
            "\n",
            "\n",
            "savvi searcher fail spot ad internet search engin user odd mix naiv sophist suggest report search habit report us pew research center reveal 87 searcher usual find look use search engin also show spot differ paid for result organ one report reveal 84 net user say regular use googl ask jeev msn yahoo onlin almost 50 question said would trust search engin much less knew inform paid result hidden accord figur gather pew research averag user spend 43 minut per month carri 34 separ search look 1 9 webpag hunt signific chunk net user 36 carri search least week 29 ask look everi week 44 question inform look critic inform simpli find search engin user also tend loyal found site feel trust tend stick it accord pew research 44 searcher use singl search engin 48 use two three small number 7 consult three site toni macklin spokesman ask jeev said result reflect research show peopl use differ search engin way site gather inform mean provid differ result queri despit like search site half question said could get inform via rout small number 17 said realli miss search engin exist remain 33 said could live without search site two third question 68 said thought result present fair unbias select inform topic found net alongsid grow sophist net user lack awar paid for result mani search engin provid alongsid list websit found index web ask 62 unawar someon paid result see carri search 18 searcher say tell result paid not said pew report find iron sinc near half user say would stop use search engin thought engin clear present paid result comment mr macklin said sponsor result must clear mark though might help queri user test show peopl need abl spot differ\n",
            "newcastl 2 1 bolton kieron dyer smash home winner end bolton 10 game unbeaten run lee bowyer put newcastl ahead fed stephen carr right flank sprint area power home header result cross wander hit back stelio giannakopoulo end fluid pass move well struck volley dyer last word game chanc pounc loos ball alan shearer shot block fire top corner neither side lack urgenc earli stage game plenti tackl fli opportun front goal harder come by bolton keeper jussi jaaskelainen make two save quick success midway first half keep shearer low shot dyer close rang header goalmouth action note almost noth magpi took lead 35 minut bowyer found space neat turn half way line stride forward pick carr right continu run perfect time made way box met carr cross downward header far corner bolton produc littl go forward point respond well level within six minut thank smart finish giannakopoulo jay jay okocha twist turn edg area neat exchang pass involv kevin davi gari speed greek striker found bottom corner first time strike magpi open half time davi set giannakopoulo space given block near post home side surviv re taken lead first meaning attack second half fernando hierro cynic chop dyer edg area midfield clean through veteran defend escap book defend nearbi result free kick laurent robert curl ball wide bolton creat littl go forward seem content frustrat magpi strategi seem work 69th minut alan shearer snap shot charg dyer react first smash ball past despair jaaskelainen six yard bolton boss sam allardyc bitter disappoint result probabl disappoint second half perform first half put lot pressur goal match qualiti thought would lift us might tire play lot game unfortun battl second half allow heap much pressur us end crack newcastl boss graem souness deserv win realli good second half bolton difficult side play match physic first play footbal slow first 45 minut look bit tire got go that scorelin flatter could one two goal newcastl given carr boumsong brambl babayaro dyer fay bowyer robert ( jena 77 ) ameobi shearer sub use butt harper milner hugh goal bowyer 35 dyer 69 bolton jaaskelainen hunt ( fadiga 14 ) n gotti ben haim candela giannakopoulo okocha ( vaz te 77 ) hierro ( campo 64 ) speed gardner davi sub use jaidi pool book ben haim hierro goal giannakopoulo 41 att 50 430 ref dunn ( gloucestershir )\n",
            "million miss net 2025 40 uk popul still without internet access home say studi around 23 million briton miss wide rang essenti servic educ medic inform predict report telecom giant bt compar 27 million 50 uk current onlin idea digit divid evapor time wish think report conclud studi call govern telecom industri come new way lure bypass digit revolut although percentag briton without home access fallen slight remain digit refusenik miss report suggest everyday task move onlin offlin servic becom less comprehens divid becom obvious burdensom got net access predict gap have net have not much talk predict divid affect futur generat less discuss bt set predict futur pattern base current inform take account way technolog chang optimist predict converg emerg user friend technolog bridg digit divid could way mark report suggest internet access devic tend someth taken alreadi said adrian hosford director corpor respons bt cost internet access fallen dramat coverag remot area vast improv last year real barrier remain psycholog hard rump have not engag net motiv skill perceiv benefit said mr hosford disadvantag group like remain among low incom famili older generat disabl low incom account quarter digit have not disabl make 16 elder near third 2025 report forecast organis bt respons help tackl problem said mr hosford telco seen posit result everybodi onlin project offer internet access peopl eight depriv communiti around britain one area cornwal high level unemploy onlin train help peopl rewrit cvs learn skill get new job explain mr hosford grassroot activ address specif need individu communiti essenti problem digit divid overcom said address problem get lot wors peopl find difficult find job educ opportun limit simpli abl keep societi said allianc digit inclus independ bodi member drawn govern industri voluntari sector recent set tackl issu face digit refusenik \n",
            "\n",
            "nasdaq plan 100m share sale owner technolog domin nasdaq stock index plan sell share public list market oper accord registr document file secur exchang commiss nasdaq stock market plan rais 100m ( 52m ) sale observ see anoth step closer full public list howev nasdaq icon 1990s technolog boom recent pour cold water suggest compani first sold share privat placement 2000 2001 technic went public 2002 stock start trade otc bulletin board list equiti trade occasion nasdaq make money sale investor bought share privat place file document said nasdaq made share technolog firm compani high growth potenti potent symbol 1990s internet telecom boom nose dive bubbl burst recoveri fortun tech giant intel dot com survivor amazon help reviv fortun \n",
            "\n",
            "\n",
            "million miss net 2025 40 uk popul still without internet access home say studi around 23 million briton miss wide rang essenti servic educ medic inform predict report telecom giant bt compar 27 million 50 uk current onlin idea digit divid evapor time wish think report conclud studi call govern telecom industri come new way lure bypass digit revolut although percentag briton without home access fallen slight remain digit refusenik miss report suggest everyday task move onlin offlin servic becom less comprehens divid becom obvious burdensom got net access predict gap have net have not much talk predict divid affect futur generat less discuss bt set predict futur pattern base current inform take account way technolog chang optimist predict converg emerg user friend technolog bridg digit divid could way mark report suggest internet access devic tend someth taken alreadi said adrian hosford director corpor respons bt cost internet access fallen dramat coverag remot area vast improv last year real barrier remain psycholog hard rump have not engag net motiv skill perceiv benefit said mr hosford disadvantag group like remain among low incom famili older generat disabl low incom account quarter digit have not disabl make 16 elder near third 2025 report forecast organis bt respons help tackl problem said mr hosford telco seen posit result everybodi onlin project offer internet access peopl eight depriv communiti around britain one area cornwal high level unemploy onlin train help peopl rewrit cvs learn skill get new job explain mr hosford grassroot activ address specif need individu communiti essenti problem digit divid overcom said address problem get lot wors peopl find difficult find job educ opportun limit simpli abl keep societi said allianc digit inclus independ bodi member drawn govern industri voluntari sector recent set tackl issu face digit refusenik\n",
            "nasdaq plan 100m share sale owner technolog domin nasdaq stock index plan sell share public list market oper accord registr document file secur exchang commiss nasdaq stock market plan rais 100m ( 52m ) sale observ see anoth step closer full public list howev nasdaq icon 1990s technolog boom recent pour cold water suggest compani first sold share privat placement 2000 2001 technic went public 2002 stock start trade otc bulletin board list equiti trade occasion nasdaq make money sale investor bought share privat place file document said nasdaq made share technolog firm compani high growth potenti potent symbol 1990s internet telecom boom nose dive bubbl burst recoveri fortun tech giant intel dot com survivor amazon help reviv fortun\n",
            "young debut cut short ginepri fifteen year old donald young first appear atp tenni tournament prove brief teenag went round one san jose open young shot top junior world rank boy singl januari australian open wildcard entri dispatch fellow american robbi ginepri straight set 6 2 6 2 california despit happi tour debut fun chanc come said young beat two player rank top 200 14 2 1 first set lose 10 next 13 game ginepri six year older youngest player ever win junior slam top global stand admit impress talent said ginepri got long futur ahead him left hand quick around court serv littl decept came net volley better thought earlier south korean hyung taik lee defeat american jan michael gambil 6 3 7 6 ( 7 4 ) american kevin kim defeat jan hernych czech republ 7 5 6 3 canadian qualifi frank dancev down american jeff morrison 4 6 7 6 ( 7 3 ) 6 0 denmark kenneth carlsen beat irak labadz republ georgia 6 7 ( 4 7 ) 6 2 6 3 top seed andi roddick launch defenc titl wednesday qualifi paul goldstein second seed andr agassi open campaign tuesday wildcard bobbi reynold last year us collegi champion agassi san jose five time run three straight titl end last year fell mardi fish semi final fish went lose roddick final \n",
            "\n",
            "ruddock back yapp credenti wale coach mike ruddock say john yapp take intern 21 year old blue prop uncap player wale six nation squad gain chanc absenc osprey loos head duncan jone john young man big futur play blue two year rack mileag play clock said ruddock intern size big physic lad good ball carrier high tackl count ruddock assess back yapp coach blue former wale lion prop dai young john upward curv season go strength strength young told bbc sport wale ball carri give us good go forward impress defenc work rate excel work hard scrummag techniqu keen improv becom destroy loos head fair quit scrummag yet nobodi fault effort commit attitud john strong man eager challeng pitch let anyon down develop quick hope push quick way would hurt develop ruddock hope select yapp dragon lock ian gough intern reckon sinc fall former coach steve hansen send messag player wale john ian reward impress heineken cup competit said ruddock play well want send messag consist play well get squad believ excit squad repres tradit valu welsh rugbi base perform novemb intern strength experi front well recognis talent pace skill behind manag team want get hold player get train pitch moment due sunday hard work start \n",
            "\n",
            "\n",
            "young debut cut short ginepri fifteen year old donald young first appear atp tenni tournament prove brief teenag went round one san jose open young shot top junior world rank boy singl januari australian open wildcard entri dispatch fellow american robbi ginepri straight set 6 2 6 2 california despit happi tour debut fun chanc come said young beat two player rank top 200 14 2 1 first set lose 10 next 13 game ginepri six year older youngest player ever win junior slam top global stand admit impress talent said ginepri got long futur ahead him left hand quick around court serv littl decept came net volley better thought earlier south korean hyung taik lee defeat american jan michael gambil 6 3 7 6 ( 7 4 ) american kevin kim defeat jan hernych czech republ 7 5 6 3 canadian qualifi frank dancev down american jeff morrison 4 6 7 6 ( 7 3 ) 6 0 denmark kenneth carlsen beat irak labadz republ georgia 6 7 ( 4 7 ) 6 2 6 3 top seed andi roddick launch defenc titl wednesday qualifi paul goldstein second seed andr agassi open campaign tuesday wildcard bobbi reynold last year us collegi champion agassi san jose five time run three straight titl end last year fell mardi fish semi final fish went lose roddick final\n",
            "ruddock back yapp credenti wale coach mike ruddock say john yapp take intern 21 year old blue prop uncap player wale six nation squad gain chanc absenc osprey loos head duncan jone john young man big futur play blue two year rack mileag play clock said ruddock intern size big physic lad good ball carrier high tackl count ruddock assess back yapp coach blue former wale lion prop dai young john upward curv season go strength strength young told bbc sport wale ball carri give us good go forward impress defenc work rate excel work hard scrummag techniqu keen improv becom destroy loos head fair quit scrummag yet nobodi fault effort commit attitud john strong man eager challeng pitch let anyon down develop quick hope push quick way would hurt develop ruddock hope select yapp dragon lock ian gough intern reckon sinc fall former coach steve hansen send messag player wale john ian reward impress heineken cup competit said ruddock play well want send messag consist play well get squad believ excit squad repres tradit valu welsh rugbi base perform novemb intern strength experi front well recognis talent pace skill behind manag team want get hold player get train pitch moment due sunday hard work start\n",
            "diageo buy us wine firm diageo world biggest spirit compani agre buy californian wine compani chalon 260m ( 134m ) all cash deal although diageo best known brand includ smirnoff vodka guin stout alreadi us winemak arm diageo chateau estat wine diageo said expect get us regulatori approv deal first quarter 2005 said chalon would integr exist us wine busi us wine market repres growth opportun diageo favour demograph consumpt trend said diageo north america presid ivan menez juli diageo list london stock exchang report annual turnov 8 89bn 9 28bn year earlier blame weaker dollar lower turnov year end 31 decemb 2003 chalon report revenu 69 4m \n",
            "\n",
            "mci share climb takeov bid share us phone compani mci risen specul takeov talk wall street journal report thursday qwest bid 6 3bn ( 3 4bn ) mci firm also express interest mci second largest us long distanc phone firm may tabl rival bid analyst said share mci chang name worldcom emerg bankruptci 2 4 20 15 press report suggest qwest mci may reach agreement earli next week although rival bid may muddi water largest us telephon compani verizon previous held preliminari merger discuss mci reuter quot sourc say consolid us telecommun industri pick past month compani look cut cost boost client base merger mci qwest would fifth billion dollar telecom deal sinc octob last week sbc communic agre buy former parent phone trailblaz at t 16bn competit intensifi fix line phone provid mci at t seen overtaken rival buy mci would give qwest local phone servic provid access mci global network busi base subscrib mci also offer internet servic mci renam emerg chapter 11 bankruptci protect april last year hit headlin worldcom 2002 admit illeg book expens inflat profit scandal key factor global slide share price reverber still felt today sharehold lost 180bn compani collaps 20 000 worker lost job former worldcom boss berni ebber current trial accus overse 11bn fraud \n",
            "\n",
            "\n",
            "diageo buy us wine firm diageo world biggest spirit compani agre buy californian wine compani chalon 260m ( 134m ) all cash deal although diageo best known brand includ smirnoff vodka guin stout alreadi us winemak arm diageo chateau estat wine diageo said expect get us regulatori approv deal first quarter 2005 said chalon would integr exist us wine busi us wine market repres growth opportun diageo favour demograph consumpt trend said diageo north america presid ivan menez juli diageo list london stock exchang report annual turnov 8 89bn 9 28bn year earlier blame weaker dollar lower turnov year end 31 decemb 2003 chalon report revenu 69 4m\n",
            "mci share climb takeov bid share us phone compani mci risen specul takeov talk wall street journal report thursday qwest bid 6 3bn ( 3 4bn ) mci firm also express interest mci second largest us long distanc phone firm may tabl rival bid analyst said share mci chang name worldcom emerg bankruptci 2 4 20 15 press report suggest qwest mci may reach agreement earli next week although rival bid may muddi water largest us telephon compani verizon previous held preliminari merger discuss mci reuter quot sourc say consolid us telecommun industri pick past month compani look cut cost boost client base merger mci qwest would fifth billion dollar telecom deal sinc octob last week sbc communic agre buy former parent phone trailblaz at t 16bn competit intensifi fix line phone provid mci at t seen overtaken rival buy mci would give qwest local phone servic provid access mci global network busi base subscrib mci also offer internet servic mci renam emerg chapter 11 bankruptci protect april last year hit headlin worldcom 2002 admit illeg book expens inflat profit scandal key factor global slide share price reverber still felt today sharehold lost 180bn compani collaps 20 000 worker lost job former worldcom boss berni ebber current trial accus overse 11bn fraud\n",
            "care code new european direct could put softwar writer risk legal action warn former programm technolog analyst bill thompson get way dutch govern conclud presid european union push controversi measur reject european parliament lack major support nation govern leav million european citizen legal limbo face possibl court case them new law border control defenc even new constitut tv screen would full expert agonis impact daili live sad direct affect controversi concern patent comput program topic may excit blogger campaign group technic press obsess middl britain much fuss generat direct patent comput implement invent way amend articl 52 1973 european patent convent yet new direct nod next meet one eu ministeri council seem like allow program patent europ us mani observ comput scene includ think result disastr small compani innov programm free open sourc softwar movement let larg compani patent sort idea give legal forc want limit competitor use realli obvious idea us cannot build system store custom credit card detail pay without re enter unless amazon let hold patent one click onlin purchas small invent amazon made patent offic first own it relat free sort thing perhap long new propos go back 2002 although argument patent softwar comput implement invent go sinc least mid 1980s come head year propos made endors council minist radic modifi european parliament re present origin form nation govern seem awar problem poland reject propos germani main polit parti oppos enough opposit guarante reject earli decemb british govern held consult meet comment propos scienc minist lord sainsburi went along listen outlin uk posit accord present embarrass see littl minist offici actual understood issu concern draft direct put council call item approv reject discuss amend allow worri first abus democrat process involv disregard view parliament abandon care argu amend goe heart european project even care softwar patent worri coder treat like today say tomorrow direct softwar patent grant programm worri code write infring someon els patent steal softwar code alreadi protect copyright patent copyright someth much stronger patent give owner right stop anyon els use invent even person invent separ never shame manag read lord byron child harold pilgrimag point one articl contain substanti chunk poem could defend court claim simpli made coincid hold patent sit afternoon write brilliant graphic compress routin happen lzw algorithm use gif file troubl patent law least us coincid defenc propos direct support mani major softwar compani hard surpris sinc us base alreadi cope legal environ allow patent legal depart crucial patent trade cross licens patent holder even system break cours microsoft found last year initi lost case brought eola claim internet explor ( and browser ) infring eola patent one eventu thrown month uncertainti million dollar small compani free open softwar movement patent trade much realli use softwar use everi day program like apach web server gnu linux oper system fearsom popular firefox browser develop outsid compani structur peopl legal depart check patent infring damag softwar happen overnight cours direct goe written nation law steadi stream legal action small compani open sourc product eventu someon decid attack linux direct probabl secret fund one two larg player new direct limit innov forc programm spend time check patent infring simpli avoid work potenti competit area damag europ comput industri hope council minist integr strength reject bad law bill thompson regular comment bbc world servic programm go digit \n",
            "\n",
            "media gadget get move pocket size devic let peopl carri around video imag set big year 2005 accord industri expert last year saw emerg portabl media player window base creativ zen portabl media player samsung yepp iriv pmc 100 archo av400 seri among other year set get smarter connect allow peopl find video watch them archo launch latest rang linux base portabl media devic consum electron show las vega friday dub pocket media assist pma430 crucial wi fi capabl built in first time consum show great thirst devic store media one place anywher access said henri croha chief archo consum stay connect product time archo said focus devic second gadget peopl pocket mobil unlik window base player archo av400 seri devic alway abl record video sourc tvs well playback content put onto devic copi protect cannot swap anoth devic record perhap crucial function seen point portabl video lot video watch it wi fi connect open possibl content deliveri via high speed wireless link archo also announc would open softwar develop kit linux develop applic could creat devic microsoft also made announc portabl media arena ces primarili us consum though agre content deal person video record compani tivo bill gate also showcas keynot speech ces tivo go servic mean us consum abl take programm record tivo transfer free watch window base portabl media player smartphon also said launch servic mtv let peopl watch comedi central vh1 countri music tv devic servic launch msn provid peopl shorten version news entertain video subscript basi download via pc onto portabl devic abil record direct tv vcr digit cabl satellit box window base devic offer certain give peopl content watch go too increas capabl devic content deal done may go way persuad peopl use them recent research jupit suggest peopl would prefer devic dedic music 13 european want watch video move seem interest spend cash music onli devic year readi explos portabl media microsoft mike coleman told bbc news websit bullish it fact put photo share super cool consum ad fact european far larger public transport user american one reason portabl media take come year too burgeon market commut watch news programm way work although microsoft content distribut deal us market moment talk alway on go european content supplier offer similar servic various right manag issu iron first howev prevent peopl find way creat content share onlin swap portabl devic particular via wi fi enabl possibl open non profession maker video audio take advantag grow portabl media market distribut work ces run 6 9 januari showcas 50 000 new gadget hit shelv 2005 \n",
            "\n",
            "\n",
            "care code new european direct could put softwar writer risk legal action warn former programm technolog analyst bill thompson get way dutch govern conclud presid european union push controversi measur reject european parliament lack major support nation govern leav million european citizen legal limbo face possibl court case them new law border control defenc even new constitut tv screen would full expert agonis impact daili live sad direct affect controversi concern patent comput program topic may excit blogger campaign group technic press obsess middl britain much fuss generat direct patent comput implement invent way amend articl 52 1973 european patent convent yet new direct nod next meet one eu ministeri council seem like allow program patent europ us mani observ comput scene includ think result disastr small compani innov programm free open sourc softwar movement let larg compani patent sort idea give legal forc want limit competitor use realli obvious idea us cannot build system store custom credit card detail pay without re enter unless amazon let hold patent one click onlin purchas small invent amazon made patent offic first own it relat free sort thing perhap long new propos go back 2002 although argument patent softwar comput implement invent go sinc least mid 1980s come head year propos made endors council minist radic modifi european parliament re present origin form nation govern seem awar problem poland reject propos germani main polit parti oppos enough opposit guarante reject earli decemb british govern held consult meet comment propos scienc minist lord sainsburi went along listen outlin uk posit accord present embarrass see littl minist offici actual understood issu concern draft direct put council call item approv reject discuss amend allow worri first abus democrat process involv disregard view parliament abandon care argu amend goe heart european project even care softwar patent worri coder treat like today say tomorrow direct softwar patent grant programm worri code write infring someon els patent steal softwar code alreadi protect copyright patent copyright someth much stronger patent give owner right stop anyon els use invent even person invent separ never shame manag read lord byron child harold pilgrimag point one articl contain substanti chunk poem could defend court claim simpli made coincid hold patent sit afternoon write brilliant graphic compress routin happen lzw algorithm use gif file troubl patent law least us coincid defenc propos direct support mani major softwar compani hard surpris sinc us base alreadi cope legal environ allow patent legal depart crucial patent trade cross licens patent holder even system break cours microsoft found last year initi lost case brought eola claim internet explor ( and browser ) infring eola patent one eventu thrown month uncertainti million dollar small compani free open softwar movement patent trade much realli use softwar use everi day program like apach web server gnu linux oper system fearsom popular firefox browser develop outsid compani structur peopl legal depart check patent infring damag softwar happen overnight cours direct goe written nation law steadi stream legal action small compani open sourc product eventu someon decid attack linux direct probabl secret fund one two larg player new direct limit innov forc programm spend time check patent infring simpli avoid work potenti competit area damag europ comput industri hope council minist integr strength reject bad law bill thompson regular comment bbc world servic programm go digit\n",
            "media gadget get move pocket size devic let peopl carri around video imag set big year 2005 accord industri expert last year saw emerg portabl media player window base creativ zen portabl media player samsung yepp iriv pmc 100 archo av400 seri among other year set get smarter connect allow peopl find video watch them archo launch latest rang linux base portabl media devic consum electron show las vega friday dub pocket media assist pma430 crucial wi fi capabl built in first time consum show great thirst devic store media one place anywher access said henri croha chief archo consum stay connect product time archo said focus devic second gadget peopl pocket mobil unlik window base player archo av400 seri devic alway abl record video sourc tvs well playback content put onto devic copi protect cannot swap anoth devic record perhap crucial function seen point portabl video lot video watch it wi fi connect open possibl content deliveri via high speed wireless link archo also announc would open softwar develop kit linux develop applic could creat devic microsoft also made announc portabl media arena ces primarili us consum though agre content deal person video record compani tivo bill gate also showcas keynot speech ces tivo go servic mean us consum abl take programm record tivo transfer free watch window base portabl media player smartphon also said launch servic mtv let peopl watch comedi central vh1 countri music tv devic servic launch msn provid peopl shorten version news entertain video subscript basi download via pc onto portabl devic abil record direct tv vcr digit cabl satellit box window base devic offer certain give peopl content watch go too increas capabl devic content deal done may go way persuad peopl use them recent research jupit suggest peopl would prefer devic dedic music 13 european want watch video move seem interest spend cash music onli devic year readi explos portabl media microsoft mike coleman told bbc news websit bullish it fact put photo share super cool consum ad fact european far larger public transport user american one reason portabl media take come year too burgeon market commut watch news programm way work although microsoft content distribut deal us market moment talk alway on go european content supplier offer similar servic various right manag issu iron first howev prevent peopl find way creat content share onlin swap portabl devic particular via wi fi enabl possibl open non profession maker video audio take advantag grow portabl media market distribut work ces run 6 9 januari showcas 50 000 new gadget hit shelv 2005\n"
          ],
          "name": "stdout"
        }
      ]
    },
    {
      "cell_type": "code",
      "metadata": {
        "id": "gAFDeZ-cjNKx",
        "colab_type": "code",
        "outputId": "9c21ef59-034e-4ab8-e30d-6eeed9cc5cf0",
        "colab": {
          "base_uri": "https://localhost:8080/",
          "height": 34
        }
      },
      "source": [
        "# Stores the indices of unusable questions\n",
        "invalid_sentences = []\n",
        "for i in range(len(sentence1)):\n",
        "    # questions need to contain a vowel (which should be part of a full word) to be valid\n",
        "    if not re.search('[aeiouyAEIOUY]', sentence1[i]) or not re.search('[aeiouyAEIOUY]', sentence2[i]):\n",
        "    # Need to subtract 'len(invalid_questions)' to adjust for the changing index values as questions are removed.\n",
        "        invalid_sentences.append(i-len(invalid_sentencess))\n",
        "print(len(invalid_sentences))"
      ],
      "execution_count": 0,
      "outputs": [
        {
          "output_type": "stream",
          "text": [
            "0\n"
          ],
          "name": "stdout"
        }
      ]
    },
    {
      "cell_type": "code",
      "metadata": {
        "id": "8fWJnWCalYjc",
        "colab_type": "code",
        "colab": {}
      },
      "source": [
        "# Use TfidfVectorizer() to transform the questions into vectors,\n",
        "# then compute their cosine similarity.\n",
        "vectorizer = TfidfVectorizer()\n",
        "def cosine_sim(text1, text2):\n",
        "    tfidf = vectorizer.fit_transform([text1, text2])\n",
        "    return ((tfidf * tfidf.T).A)[0,1]"
      ],
      "execution_count": 0,
      "outputs": []
    },
    {
      "cell_type": "code",
      "metadata": {
        "id": "fLQbKeq4lYz3",
        "colab_type": "code",
        "outputId": "3b9b2942-0ed1-43f2-db75-c42119039c7b",
        "colab": {
          "base_uri": "https://localhost:8080/",
          "height": 102
        }
      },
      "source": [
        "Tfidf_scores = []\n",
        "for i in range(len(sentence1)):\n",
        "    score = cosine_sim(sentence1[i], sentence2[i])\n",
        "    Tfidf_scores.append(score)\n",
        "    if i % 1000 == 0:\n",
        "        progress = i/len(sentence1) * 100\n",
        "        print(\"Similarity Scores is {}% complete.\".format(round(progress,1)))"
      ],
      "execution_count": 0,
      "outputs": [
        {
          "output_type": "stream",
          "text": [
            "Similarity Scores is 0.0% complete.\n",
            "Similarity Scores is 24.9% complete.\n",
            "Similarity Scores is 49.7% complete.\n",
            "Similarity Scores is 74.6% complete.\n",
            "Similarity Scores is 99.4% complete.\n"
          ],
          "name": "stdout"
        }
      ]
    },
    {
      "cell_type": "code",
      "metadata": {
        "id": "fjtyQmTRlY_v",
        "colab_type": "code",
        "outputId": "149efa2f-5347-48f9-c5e4-7d880db6766e",
        "colab": {
          "base_uri": "https://localhost:8080/",
          "height": 269
        }
      },
      "source": [
        "# Plot the scores\n",
        "plt.figure(figsize=(12,4))\n",
        "plt.hist(Tfidf_scores, bins = 50,color='green')\n",
        "plt.xlim(0,1)\n",
        "plt.show()"
      ],
      "execution_count": 0,
      "outputs": [
        {
          "output_type": "display_data",
          "data": {
            "image/png": "[encoded data removed]",
            "text/plain": [
              "<Figure size 864x288 with 1 Axes>"
            ]
          },
          "metadata": {
            "tags": []
          }
        }
      ]
    },
    {
      "cell_type": "markdown",
      "metadata": {
        "id": "lcEui9y50ppw",
        "colab_type": "text"
      },
      "source": [
        "# Method 3 DOC2VEC"
      ]
    },
    {
      "cell_type": "code",
      "metadata": {
        "id": "CMO_soar0t_B",
        "colab_type": "code",
        "colab": {}
      },
      "source": [
        "# Reset index to match the index values of questions1 and questions2\n",
        "df = df.reset_index()"
      ],
      "execution_count": 0,
      "outputs": []
    },
    {
      "cell_type": "code",
      "metadata": {
        "id": "6QdpKTHZ1Eqj",
        "colab_type": "code",
        "outputId": "e9702a1e-588d-4e56-b85f-ce86b2c59ce8",
        "colab": {
          "base_uri": "https://localhost:8080/",
          "height": 190
        }
      },
      "source": [
        "# Contains the processed questions for Doc2Vec\n",
        "sentences_labeled = []\n",
        "\n",
        "for i in range(len(sentence1)):\n",
        "    # Question strings need to be separated into words\n",
        "    # Each question needs a unique label\n",
        "    sentences_labeled.append(LabeledSentence(sentence1[i].split(), df[df.index == i].Unique_ID))\n",
        "    sentences_labeled.append(LabeledSentence(sentence2[i].split(), df[df.index == i].Unique_ID))\n",
        "    if i % 1000 == 0:\n",
        "        progress = i/len(sentence1) * 100\n",
        "        print(\"{}% complete\".format(round(progress, 2)))\n"
      ],
      "execution_count": 0,
      "outputs": [
        {
          "output_type": "stream",
          "text": [
            "/usr/local/lib/python3.6/dist-packages/ipykernel_launcher.py:6: DeprecationWarning: Call to deprecated `LabeledSentence` (Class will be removed in 4.0.0, use TaggedDocument instead).\n",
            "  \n",
            "/usr/local/lib/python3.6/dist-packages/ipykernel_launcher.py:7: DeprecationWarning: Call to deprecated `LabeledSentence` (Class will be removed in 4.0.0, use TaggedDocument instead).\n",
            "  import sys\n"
          ],
          "name": "stderr"
        },
        {
          "output_type": "stream",
          "text": [
            "0.0% complete\n",
            "24.86% complete\n",
            "49.71% complete\n",
            "74.57% complete\n",
            "99.43% complete\n"
          ],
          "name": "stdout"
        }
      ]
    },
    {
      "cell_type": "code",
      "metadata": {
        "id": "8wX3U0641jBf",
        "colab_type": "code",
        "colab": {}
      },
      "source": [
        "# Split questions for computing similarity and determining the lengths of the questions.\n",
        "sentence1_split = []\n",
        "for sentence in sentence1:\n",
        "    sentence1_split.append(sentence.split())\n",
        "    \n",
        "sentence2_split = []\n",
        "for sentence in sentence2:\n",
        "    sentence2_split.append(sentence.split())"
      ],
      "execution_count": 0,
      "outputs": []
    },
    {
      "cell_type": "code",
      "metadata": {
        "id": "p23i1PCq2Th2",
        "colab_type": "code",
        "colab": {}
      },
      "source": [
        "# Determine the length of questions to select more optimal parameters.\n",
        "lengths = []\n",
        "for i in range(len(sentence1_split)):\n",
        "    lengths.append(len(sentence1_split[i]))\n",
        "    lengths.append(len(sentence2_split[i]))\n",
        "lengths = pd.DataFrame(lengths, columns=[\"count\"])"
      ],
      "execution_count": 0,
      "outputs": []
    },
    {
      "cell_type": "code",
      "metadata": {
        "id": "udLFctEC2hL4",
        "colab_type": "code",
        "outputId": "46c3a5b3-a101-4f7f-eef5-036611d1ea47",
        "colab": {
          "base_uri": "https://localhost:8080/",
          "height": 170
        }
      },
      "source": [
        "lengths['count'].describe()"
      ],
      "execution_count": 0,
      "outputs": [
        {
          "output_type": "execute_result",
          "data": {
            "text/plain": [
              "count    8046.000000\n",
              "mean      231.206438\n",
              "std       133.771207\n",
              "min        50.000000\n",
              "25%       151.000000\n",
              "50%       204.000000\n",
              "75%       282.000000\n",
              "max      2296.000000\n",
              "Name: count, dtype: float64"
            ]
          },
          "metadata": {
            "tags": []
          },
          "execution_count": 51
        }
      ]
    },
    {
      "cell_type": "code",
      "metadata": {
        "id": "jum4Nss22o33",
        "colab_type": "code",
        "outputId": "d2ecafc5-379b-48bc-90da-c8514306ace7",
        "colab": {
          "base_uri": "https://localhost:8080/",
          "height": 34
        }
      },
      "source": [
        "lengths['count'].values"
      ],
      "execution_count": 0,
      "outputs": [
        {
          "output_type": "execute_result",
          "data": {
            "text/plain": [
              "array([290, 395, 296, ..., 140, 217, 117])"
            ]
          },
          "metadata": {
            "tags": []
          },
          "execution_count": 54
        }
      ]
    },
    {
      "cell_type": "code",
      "metadata": {
        "id": "CHdPox_f2uP-",
        "colab_type": "code",
        "outputId": "fbd78e30-1dd5-4be1-b67d-84d5df0363a8",
        "colab": {
          "base_uri": "https://localhost:8080/",
          "height": 34
        }
      },
      "source": [
        "# 99% of the questions  or fewer words.\n",
        "np.percentile(lengths['count'], 99)"
      ],
      "execution_count": 0,
      "outputs": [
        {
          "output_type": "execute_result",
          "data": {
            "text/plain": [
              "571.0"
            ]
          },
          "metadata": {
            "tags": []
          },
          "execution_count": 56
        }
      ]
    },
    {
      "cell_type": "code",
      "metadata": {
        "id": "xn1gQdL73G8g",
        "colab_type": "code",
        "outputId": "84e87676-633b-4a28-e5a5-c978447b8510",
        "colab": {
          "base_uri": "https://localhost:8080/",
          "height": 71
        }
      },
      "source": [
        "# Build the model\n",
        "model = Doc2Vec(dm = 1, min_count=1, window=10, size=150, sample=1e-4, negative=10)\n",
        "model.build_vocab(sentences_labeled)"
      ],
      "execution_count": 0,
      "outputs": [
        {
          "output_type": "stream",
          "text": [
            "/usr/local/lib/python3.6/dist-packages/gensim/models/doc2vec.py:570: UserWarning: The parameter `size` is deprecated, will be removed in 4.0.0, use `vector_size` instead.\n",
            "  warnings.warn(\"The parameter `size` is deprecated, will be removed in 4.0.0, use `vector_size` instead.\")\n"
          ],
          "name": "stderr"
        }
      ]
    },
    {
      "cell_type": "code",
      "metadata": {
        "id": "PfMdt3NF39kD",
        "colab_type": "code",
        "outputId": "6848515f-306c-45d1-d72b-fe7bb6cbead3",
        "colab": {
          "base_uri": "https://localhost:8080/",
          "height": 275
        }
      },
      "source": [
        "model.most_similar('good')"
      ],
      "execution_count": 0,
      "outputs": [
        {
          "output_type": "stream",
          "text": [
            "/usr/local/lib/python3.6/dist-packages/ipykernel_launcher.py:1: DeprecationWarning: Call to deprecated `most_similar` (Method will be removed in 4.0.0, use self.wv.most_similar() instead).\n",
            "  \"\"\"Entry point for launching an IPython kernel.\n",
            "/usr/local/lib/python3.6/dist-packages/gensim/matutils.py:737: FutureWarning: Conversion of the second argument of issubdtype from `int` to `np.signedinteger` is deprecated. In future, it will be treated as `np.int64 == np.dtype(int).type`.\n",
            "  if np.issubdtype(vec.dtype, np.int):\n"
          ],
          "name": "stderr"
        },
        {
          "output_type": "execute_result",
          "data": {
            "text/plain": [
              "[('magan', 0.3290099799633026),\n",
              " ('isitt', 0.30083125829696655),\n",
              " ('cyberspac', 0.2792191505432129),\n",
              " ('while', 0.2787034213542938),\n",
              " ('victori', 0.2776039242744446),\n",
              " ('tent', 0.2752862274646759),\n",
              " ('scannel', 0.27276384830474854),\n",
              " ('conmen', 0.27185767889022827),\n",
              " ('jiulin', 0.2706533968448639),\n",
              " ('randal', 0.266573041677475)]"
            ]
          },
          "metadata": {
            "tags": []
          },
          "execution_count": 65
        }
      ]
    },
    {
      "cell_type": "code",
      "metadata": {
        "id": "B_MqsHKL4VXm",
        "colab_type": "code",
        "outputId": "4525d0d8-1bd2-4b7f-9112-c4f8a72dd79d",
        "colab": {
          "base_uri": "https://localhost:8080/",
          "height": 275
        }
      },
      "source": [
        "model.most_similar('peopl')"
      ],
      "execution_count": 0,
      "outputs": [
        {
          "output_type": "stream",
          "text": [
            "/usr/local/lib/python3.6/dist-packages/ipykernel_launcher.py:1: DeprecationWarning: Call to deprecated `most_similar` (Method will be removed in 4.0.0, use self.wv.most_similar() instead).\n",
            "  \"\"\"Entry point for launching an IPython kernel.\n",
            "/usr/local/lib/python3.6/dist-packages/gensim/matutils.py:737: FutureWarning: Conversion of the second argument of issubdtype from `int` to `np.signedinteger` is deprecated. In future, it will be treated as `np.int64 == np.dtype(int).type`.\n",
            "  if np.issubdtype(vec.dtype, np.int):\n"
          ],
          "name": "stderr"
        },
        {
          "output_type": "execute_result",
          "data": {
            "text/plain": [
              "[('unsophist', 0.34624841809272766),\n",
              " ('impoverish', 0.3030472695827484),\n",
              " ('incub', 0.2963082492351532),\n",
              " ('facey', 0.293937087059021),\n",
              " ('rob', 0.2906617224216461),\n",
              " ('liang', 0.27060115337371826),\n",
              " ('angel', 0.26653432846069336),\n",
              " ('mcguir', 0.2661038339138031),\n",
              " ('rous', 0.2660773694515228),\n",
              " ('knot', 0.2655090093612671)]"
            ]
          },
          "metadata": {
            "tags": []
          },
          "execution_count": 66
        }
      ]
    },
    {
      "cell_type": "code",
      "metadata": {
        "id": "iiNfYYIi4ir9",
        "colab_type": "code",
        "outputId": "85ad3e9a-96e8-4f2b-fc4c-2013276855d7",
        "colab": {
          "base_uri": "https://localhost:8080/",
          "height": 275
        }
      },
      "source": [
        "model.most_similar('book')"
      ],
      "execution_count": 0,
      "outputs": [
        {
          "output_type": "stream",
          "text": [
            "/usr/local/lib/python3.6/dist-packages/ipykernel_launcher.py:1: DeprecationWarning: Call to deprecated `most_similar` (Method will be removed in 4.0.0, use self.wv.most_similar() instead).\n",
            "  \"\"\"Entry point for launching an IPython kernel.\n",
            "/usr/local/lib/python3.6/dist-packages/gensim/matutils.py:737: FutureWarning: Conversion of the second argument of issubdtype from `int` to `np.signedinteger` is deprecated. In future, it will be treated as `np.int64 == np.dtype(int).type`.\n",
            "  if np.issubdtype(vec.dtype, np.int):\n"
          ],
          "name": "stderr"
        },
        {
          "output_type": "execute_result",
          "data": {
            "text/plain": [
              "[('dismount', 0.30609554052352905),\n",
              " ('cannist', 0.2998250722885132),\n",
              " ('elaps', 0.28491801023483276),\n",
              " ('goldstein', 0.2807214856147766),\n",
              " ('moin', 0.2794002592563629),\n",
              " ('inc', 0.2682351768016815),\n",
              " ('truer', 0.2661641538143158),\n",
              " ('corr', 0.25854918360710144),\n",
              " ('inspector', 0.25733131170272827),\n",
              " ('leinster', 0.25725871324539185)]"
            ]
          },
          "metadata": {
            "tags": []
          },
          "execution_count": 67
        }
      ]
    },
    {
      "cell_type": "code",
      "metadata": {
        "id": "XtLf4xDw4qsz",
        "colab_type": "code",
        "outputId": "aba2882e-92ae-47d5-a167-f2c70411761f",
        "colab": {
          "base_uri": "https://localhost:8080/",
          "height": 275
        }
      },
      "source": [
        "model.most_similar('note')"
      ],
      "execution_count": 0,
      "outputs": [
        {
          "output_type": "stream",
          "text": [
            "/usr/local/lib/python3.6/dist-packages/ipykernel_launcher.py:1: DeprecationWarning: Call to deprecated `most_similar` (Method will be removed in 4.0.0, use self.wv.most_similar() instead).\n",
            "  \"\"\"Entry point for launching an IPython kernel.\n",
            "/usr/local/lib/python3.6/dist-packages/gensim/matutils.py:737: FutureWarning: Conversion of the second argument of issubdtype from `int` to `np.signedinteger` is deprecated. In future, it will be treated as `np.int64 == np.dtype(int).type`.\n",
            "  if np.issubdtype(vec.dtype, np.int):\n"
          ],
          "name": "stderr"
        },
        {
          "output_type": "execute_result",
          "data": {
            "text/plain": [
              "[('congest', 0.31521958112716675),\n",
              " ('377bn', 0.3075938820838928),\n",
              " ('headach', 0.2998121976852417),\n",
              " ('boers', 0.29192426800727844),\n",
              " ('regular', 0.2848879098892212),\n",
              " ('nishioka', 0.2775861322879791),\n",
              " ('unenforc', 0.27272382378578186),\n",
              " ('deccan', 0.2679932415485382),\n",
              " ('underwhelm', 0.26735490560531616),\n",
              " ('kickabl', 0.265718936920166)]"
            ]
          },
          "metadata": {
            "tags": []
          },
          "execution_count": 69
        }
      ]
    },
    {
      "cell_type": "code",
      "metadata": {
        "id": "oPm-ygu34uu1",
        "colab_type": "code",
        "outputId": "43a5a01b-fe69-4d6a-9bed-257ba4c9a717",
        "colab": {
          "base_uri": "https://localhost:8080/",
          "height": 190
        }
      },
      "source": [
        "doc2vec_scores = []\n",
        "for i in range(len(sentence1_split)):\n",
        "    # n_similarity computes the cosine similarity in Doc2Vec\n",
        "    score = model.n_similarity(sentence1_split[i],sentence2_split[i])\n",
        "    doc2vec_scores.append(score)\n",
        "    if i % 1000 == 0:\n",
        "        progress = i/len(sentence1_split) * 100\n",
        "        print(\"{}% complete.\".format(round(progress,2)))\n"
      ],
      "execution_count": 0,
      "outputs": [
        {
          "output_type": "stream",
          "text": [
            "/usr/local/lib/python3.6/dist-packages/ipykernel_launcher.py:4: DeprecationWarning: Call to deprecated `n_similarity` (Method will be removed in 4.0.0, use self.wv.n_similarity() instead).\n",
            "  after removing the cwd from sys.path.\n",
            "/usr/local/lib/python3.6/dist-packages/gensim/matutils.py:737: FutureWarning: Conversion of the second argument of issubdtype from `int` to `np.signedinteger` is deprecated. In future, it will be treated as `np.int64 == np.dtype(int).type`.\n",
            "  if np.issubdtype(vec.dtype, np.int):\n"
          ],
          "name": "stderr"
        },
        {
          "output_type": "stream",
          "text": [
            "0.0% complete.\n",
            "24.86% complete.\n",
            "49.71% complete.\n",
            "74.57% complete.\n",
            "99.43% complete.\n"
          ],
          "name": "stdout"
        }
      ]
    },
    {
      "cell_type": "code",
      "metadata": {
        "id": "_Gpw7Yc35Ad8",
        "colab_type": "code",
        "outputId": "65f6f277-ec9d-4b04-db49-6d25ac139ba7",
        "colab": {
          "base_uri": "https://localhost:8080/",
          "height": 265
        }
      },
      "source": [
        "# Plot the scores\n",
        "plt.figure(figsize=(12,4))\n",
        "plt.hist(doc2vec_scores, bins = 200)\n",
        "plt.xlim(0,1)\n",
        "plt.show()"
      ],
      "execution_count": 0,
      "outputs": [
        {
          "output_type": "display_data",
          "data": {
            "image/png": "[encoded data removed]",
            "text/plain": [
              "<Figure size 864x288 with 1 Axes>"
            ]
          },
          "metadata": {
            "tags": []
          }
        }
      ]
    },
    {
      "cell_type": "markdown",
      "metadata": {
        "id": "D_YEnoILX_mk",
        "colab_type": "text"
      },
      "source": [
        "### interpretation"
      ]
    },
    {
      "cell_type": "markdown",
      "metadata": {
        "id": "xe9wQ4qaYC8k",
        "colab_type": "text"
      },
      "source": [
        "* It's interesting to see how Doc2Vec computes the pairs of questions to be more similar than TfidfVectorizer."
      ]
    }
  ]
}